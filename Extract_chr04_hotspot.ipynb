{
 "cells": [
  {
   "cell_type": "markdown",
   "metadata": {},
   "source": [
    "Author: Dan Shea  \n",
    "Date: 2019.08.27  \n",
    "#### Extract 30 kbp region from consensus sequences of the founders and the reference sequence\n",
    "We discovered a region of Chromosome 4 (chr04) that appears to be a recombination hotspot. Therefore, we will examine the sequence in the region of `chr04:19,370,000-19,400,000` and attempt to conduct a multiple sequence alignment using `MAFFT`. Because the region is so large, we will examine the alignment of two separate methods within the `MAFFT` alignment software. `L-INS-i` is highly accurate and suitable for alignment on 10 - 100 protein sequences. However, given the regions to be aligned are 30 kbp in length, we will also make use of `FFT-NS-2` since, <blockquote>FFT-NS-2 and other progressive methods can align many and/or long DNA/protein sequences, because of an FFT approximation and a linear-space DP algorithm.</blockquote> [reference](https://mafft.cbrc.jp/alignment/software/about.html)"
   ]
  },
  {
   "cell_type": "code",
   "execution_count": 1,
   "metadata": {},
   "outputs": [],
   "source": [
    "from Bio import SeqIO"
   ]
  },
  {
   "cell_type": "code",
   "execution_count": 2,
   "metadata": {},
   "outputs": [],
   "source": [
    "reference_file = 'reference_genome/IRGSP-1.0_genome.fasta'\n",
    "# Sample names, founder names, and sample_founder as ordered lists\n",
    "samples = ['N01','N03','N04','N05','N06','N07','N08','N09','N10','N11',\n",
    "           'N12','N13','N14','N16','N17','N18','N19','N20','N21','N22',]\n",
    "founders = ['KASALATH','KEIBOBA','SHONI','TUPA_121-3','SURJAMUKHI','RATUL','BADARI_DHAN','KALUHEENATI','JAGUARY','REXMONT',\n",
    "            'URASAN','TUPA_729','DEE_JIAO_HUA_LUO','NERICA_1','TAKANARI','C8005','MOUKOTOU','NORTAI','SESIA','HAYAYUKI',]\n",
    "datadirs = ['_'.join([x, y]) for x, y in zip(samples, founders)]"
   ]
  },
  {
   "cell_type": "code",
   "execution_count": 3,
   "metadata": {},
   "outputs": [],
   "source": [
    "refio = SeqIO.parse(reference_file, format='fasta')"
   ]
  },
  {
   "cell_type": "code",
   "execution_count": 4,
   "metadata": {},
   "outputs": [],
   "source": [
    "sequences = list()\n",
    "for seq in refio:\n",
    "    if seq.id == 'chr04':\n",
    "        sequences.append(seq[19369999:19399999])\n",
    "        break"
   ]
  },
  {
   "cell_type": "code",
   "execution_count": 5,
   "metadata": {},
   "outputs": [
    {
     "data": {
      "text/plain": [
       "[SeqRecord(seq=Seq('TTGAAGCAAGCACGTCCCTACAATATATCTTCCCAATTGTATATTGAAATGTTG...AGT', SingleLetterAlphabet()), id='chr04', name='chr04', description='chr04', dbxrefs=[])]"
      ]
     },
     "execution_count": 5,
     "metadata": {},
     "output_type": "execute_result"
    }
   ],
   "source": [
    "sequences"
   ]
  },
  {
   "cell_type": "code",
   "execution_count": 6,
   "metadata": {},
   "outputs": [],
   "source": [
    "for key, founder, d in zip(samples, founders, datadirs):\n",
    "    seqio = SeqIO.parse('beagle_output/{}/{}_consensus.fa'.format(d, key), format='fasta')\n",
    "    for seq in seqio:\n",
    "        if seq.id == 'chr04':\n",
    "            sequences.append(seq[19369999:19399999])\n",
    "            break"
   ]
  },
  {
   "cell_type": "code",
   "execution_count": 7,
   "metadata": {},
   "outputs": [
    {
     "name": "stdout",
     "output_type": "stream",
     "text": [
      "IRGSP1.0:chr04:19370000:19400000\n",
      "KASALATH:chr04:19370000:19400000\n",
      "KEIBOBA:chr04:19370000:19400000\n",
      "SHONI:chr04:19370000:19400000\n",
      "TUPA_121-3:chr04:19370000:19400000\n",
      "SURJAMUKHI:chr04:19370000:19400000\n",
      "RATUL:chr04:19370000:19400000\n",
      "BADARI_DHAN:chr04:19370000:19400000\n",
      "KALUHEENATI:chr04:19370000:19400000\n",
      "JAGUARY:chr04:19370000:19400000\n",
      "REXMONT:chr04:19370000:19400000\n",
      "URASAN:chr04:19370000:19400000\n",
      "TUPA_729:chr04:19370000:19400000\n",
      "DEE_JIAO_HUA_LUO:chr04:19370000:19400000\n",
      "NERICA_1:chr04:19370000:19400000\n",
      "TAKANARI:chr04:19370000:19400000\n",
      "C8005:chr04:19370000:19400000\n",
      "MOUKOTOU:chr04:19370000:19400000\n",
      "NORTAI:chr04:19370000:19400000\n",
      "SESIA:chr04:19370000:19400000\n",
      "HAYAYUKI:chr04:19370000:19400000\n"
     ]
    }
   ],
   "source": [
    "# Fixed a typo in the faster headers - 2019.09.02 DJS\n",
    "for s, t in zip(sequences, ['IRGSP1.0']+founders):\n",
    "    s.id = '{}:{}:{}:{}'.format(t, s.id, '19370000', '19400000')\n",
    "    print(s.id)"
   ]
  },
  {
   "cell_type": "code",
   "execution_count": 8,
   "metadata": {},
   "outputs": [
    {
     "data": {
      "text/plain": [
       "21"
      ]
     },
     "execution_count": 8,
     "metadata": {},
     "output_type": "execute_result"
    }
   ],
   "source": [
    "SeqIO.write(sequences, 'chr04_hotspot_locus.fasta', format='fasta')"
   ]
  },
  {
   "cell_type": "markdown",
   "metadata": {},
   "source": [
    "#### Second extraction\n",
    "Further analysis of the region shows that `19,393,100..19,393,400` is a good locus to focus on as this is where the differences between highly recombinant founders and non-recombinant founders is marked by the presence/absence of some SNPs."
   ]
  },
  {
   "cell_type": "code",
   "execution_count": 9,
   "metadata": {},
   "outputs": [],
   "source": [
    "refio = SeqIO.parse(reference_file, format='fasta')\n",
    "sequences = list()\n",
    "for seq in refio:\n",
    "    if seq.id == 'chr04':\n",
    "        sequences.append(seq[19393099:19393399])\n",
    "        break"
   ]
  },
  {
   "cell_type": "code",
   "execution_count": 10,
   "metadata": {},
   "outputs": [],
   "source": [
    "for key, founder, d in zip(samples, founders, datadirs):\n",
    "    seqio = SeqIO.parse('beagle_output/{}/{}_consensus.fa'.format(d, key), format='fasta')\n",
    "    for seq in seqio:\n",
    "        if seq.id == 'chr04':\n",
    "            sequences.append(seq[19393099:19393399])\n",
    "            break"
   ]
  },
  {
   "cell_type": "code",
   "execution_count": 11,
   "metadata": {},
   "outputs": [
    {
     "name": "stdout",
     "output_type": "stream",
     "text": [
      "IRGSP1.0:chr04:19393100:19393400\n",
      "KASALATH:chr04:19393100:19393400\n",
      "KEIBOBA:chr04:19393100:19393400\n",
      "SHONI:chr04:19393100:19393400\n",
      "TUPA_121-3:chr04:19393100:19393400\n",
      "SURJAMUKHI:chr04:19393100:19393400\n",
      "RATUL:chr04:19393100:19393400\n",
      "BADARI_DHAN:chr04:19393100:19393400\n",
      "KALUHEENATI:chr04:19393100:19393400\n",
      "JAGUARY:chr04:19393100:19393400\n",
      "REXMONT:chr04:19393100:19393400\n",
      "URASAN:chr04:19393100:19393400\n",
      "TUPA_729:chr04:19393100:19393400\n",
      "DEE_JIAO_HUA_LUO:chr04:19393100:19393400\n",
      "NERICA_1:chr04:19393100:19393400\n",
      "TAKANARI:chr04:19393100:19393400\n",
      "C8005:chr04:19393100:19393400\n",
      "MOUKOTOU:chr04:19393100:19393400\n",
      "NORTAI:chr04:19393100:19393400\n",
      "SESIA:chr04:19393100:19393400\n",
      "HAYAYUKI:chr04:19393100:19393400\n"
     ]
    }
   ],
   "source": [
    "for s, t in zip(sequences, ['IRGSP1.0']+founders):\n",
    "    s.id = '{}:{}:{}:{}'.format(t, s.id, '19393100', '19393400')\n",
    "    print(s.id)"
   ]
  },
  {
   "cell_type": "code",
   "execution_count": 12,
   "metadata": {},
   "outputs": [
    {
     "data": {
      "text/plain": [
       "21"
      ]
     },
     "execution_count": 12,
     "metadata": {},
     "output_type": "execute_result"
    }
   ],
   "source": [
    "SeqIO.write(sequences, 'chr04_hotspot_locus_300bp.fasta', format='fasta')"
   ]
  },
  {
   "cell_type": "code",
   "execution_count": null,
   "metadata": {},
   "outputs": [],
   "source": []
  }
 ],
 "metadata": {
  "kernelspec": {
   "display_name": "Python 3",
   "language": "python",
   "name": "python3"
  },
  "language_info": {
   "codemirror_mode": {
    "name": "ipython",
    "version": 3
   },
   "file_extension": ".py",
   "mimetype": "text/x-python",
   "name": "python",
   "nbconvert_exporter": "python",
   "pygments_lexer": "ipython3",
   "version": "3.6.7"
  }
 },
 "nbformat": 4,
 "nbformat_minor": 2
}
