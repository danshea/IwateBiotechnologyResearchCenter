{
 "cells": [
  {
   "cell_type": "markdown",
   "metadata": {},
   "source": [
    "Author: Dan Shea  \n",
    "Date: 2019.09.02\n",
    "Description:  \n",
    "#### Repeatmasker results analysis on chr04 hotspot locus\n",
    "The results of running `RepeatMasker` on the consensus sequences extracted for the chr04 recombination hotspot yield a table of motifs identified. However the `.out` file needed to be cleaned up prior to importing it into this notebook as a `pandas.DataFrame`.\n",
    "\n",
    "* `grep -v '*' chr04_hotspot_locus.fasta.out | egrep -r -E '^\\s+[0-9]' - > chr04_hotspot_locus.fasta.tsv` to strip out the multiline header and matchers that are overlapped by a higher scoring match.\n",
    "* Then in `vi` (using ex) we remove leading and trailing whitespace and convert all remaining whitespace to single tabs to create a tsv file.\n",
    "* After that, I added a header to define the fields as a single line header.\n",
    "\n",
    "| bitscore | pct_div | pct_del | pct_ins | query | qstart | qstop | qleft | strand | motif | motif_class | mstart | mstop | mleft | ID |\n",
    "|----------|---------|---------|---------|-------|--------|-------|-------|--------|-------|-------------|--------|-------|-------|----|\n",
    "\n",
    "**Note** There was a typo in the fasta header when I extracted the sequences. The extracted range is `19,370,000:19,400,000`."
   ]
  },
  {
   "cell_type": "code",
   "execution_count": 1,
   "metadata": {},
   "outputs": [
    {
     "name": "stderr",
     "output_type": "stream",
     "text": [
      "/home/dshea/anaconda3/lib/python3.6/importlib/_bootstrap.py:219: RuntimeWarning:\n",
      "\n",
      "numpy.ufunc size changed, may indicate binary incompatibility. Expected 192 from C header, got 216 from PyObject\n",
      "\n"
     ]
    }
   ],
   "source": [
    "import pandas as pd\n",
    "import numpy as np\n",
    "import scipy.stats as sps\n",
    "import plotly.express as px\n",
    "from statsmodels.stats.multitest import fdrcorrection"
   ]
  },
  {
   "cell_type": "code",
   "execution_count": 6,
   "metadata": {},
   "outputs": [],
   "source": [
    "infile = 'chr04_hotspot_locus.fasta.tsv'"
   ]
  },
  {
   "cell_type": "code",
   "execution_count": 7,
   "metadata": {},
   "outputs": [],
   "source": [
    "repeatmasker = pd.read_csv(infile, sep='\\t', index_col=False)"
   ]
  },
  {
   "cell_type": "code",
   "execution_count": 8,
   "metadata": {},
   "outputs": [
    {
     "data": {
      "text/html": [
       "<div>\n",
       "<style scoped>\n",
       "    .dataframe tbody tr th:only-of-type {\n",
       "        vertical-align: middle;\n",
       "    }\n",
       "\n",
       "    .dataframe tbody tr th {\n",
       "        vertical-align: top;\n",
       "    }\n",
       "\n",
       "    .dataframe thead th {\n",
       "        text-align: right;\n",
       "    }\n",
       "</style>\n",
       "<table border=\"1\" class=\"dataframe\">\n",
       "  <thead>\n",
       "    <tr style=\"text-align: right;\">\n",
       "      <th></th>\n",
       "      <th>bitscore</th>\n",
       "      <th>pct_div</th>\n",
       "      <th>pct_del</th>\n",
       "      <th>pct_ins</th>\n",
       "      <th>query</th>\n",
       "      <th>qstart</th>\n",
       "      <th>qstop</th>\n",
       "      <th>qleft</th>\n",
       "      <th>strand</th>\n",
       "      <th>motif</th>\n",
       "      <th>motif_class</th>\n",
       "      <th>mstart</th>\n",
       "      <th>mstop</th>\n",
       "      <th>mleft</th>\n",
       "      <th>ID</th>\n",
       "    </tr>\n",
       "  </thead>\n",
       "  <tbody>\n",
       "    <tr>\n",
       "      <th>0</th>\n",
       "      <td>21</td>\n",
       "      <td>22.2</td>\n",
       "      <td>0.0</td>\n",
       "      <td>1.9</td>\n",
       "      <td>BADARI_DHAN:chr04:19370000:19400000</td>\n",
       "      <td>1250</td>\n",
       "      <td>1303</td>\n",
       "      <td>(28697)</td>\n",
       "      <td>+</td>\n",
       "      <td>(CGG)n</td>\n",
       "      <td>Simple_repeat</td>\n",
       "      <td>1</td>\n",
       "      <td>53</td>\n",
       "      <td>(0)</td>\n",
       "      <td>1</td>\n",
       "    </tr>\n",
       "    <tr>\n",
       "      <th>1</th>\n",
       "      <td>13</td>\n",
       "      <td>0.0</td>\n",
       "      <td>7.7</td>\n",
       "      <td>3.7</td>\n",
       "      <td>BADARI_DHAN:chr04:19370000:19400000</td>\n",
       "      <td>1550</td>\n",
       "      <td>1575</td>\n",
       "      <td>(28425)</td>\n",
       "      <td>+</td>\n",
       "      <td>(CGA)n</td>\n",
       "      <td>Simple_repeat</td>\n",
       "      <td>1</td>\n",
       "      <td>27</td>\n",
       "      <td>(0)</td>\n",
       "      <td>3</td>\n",
       "    </tr>\n",
       "    <tr>\n",
       "      <th>2</th>\n",
       "      <td>19</td>\n",
       "      <td>17.2</td>\n",
       "      <td>6.5</td>\n",
       "      <td>0.0</td>\n",
       "      <td>BADARI_DHAN:chr04:19370000:19400000</td>\n",
       "      <td>1980</td>\n",
       "      <td>2025</td>\n",
       "      <td>(27975)</td>\n",
       "      <td>+</td>\n",
       "      <td>(TC)n</td>\n",
       "      <td>Simple_repeat</td>\n",
       "      <td>1</td>\n",
       "      <td>49</td>\n",
       "      <td>(0)</td>\n",
       "      <td>4</td>\n",
       "    </tr>\n",
       "    <tr>\n",
       "      <th>3</th>\n",
       "      <td>12</td>\n",
       "      <td>13.9</td>\n",
       "      <td>4.4</td>\n",
       "      <td>6.8</td>\n",
       "      <td>BADARI_DHAN:chr04:19370000:19400000</td>\n",
       "      <td>2719</td>\n",
       "      <td>2763</td>\n",
       "      <td>(27237)</td>\n",
       "      <td>+</td>\n",
       "      <td>GA-rich</td>\n",
       "      <td>Low_complexity</td>\n",
       "      <td>1</td>\n",
       "      <td>44</td>\n",
       "      <td>(0)</td>\n",
       "      <td>5</td>\n",
       "    </tr>\n",
       "    <tr>\n",
       "      <th>4</th>\n",
       "      <td>16</td>\n",
       "      <td>11.3</td>\n",
       "      <td>4.8</td>\n",
       "      <td>4.8</td>\n",
       "      <td>BADARI_DHAN:chr04:19370000:19400000</td>\n",
       "      <td>3705</td>\n",
       "      <td>3746</td>\n",
       "      <td>(26254)</td>\n",
       "      <td>+</td>\n",
       "      <td>(GCC)n</td>\n",
       "      <td>Simple_repeat</td>\n",
       "      <td>1</td>\n",
       "      <td>42</td>\n",
       "      <td>(0)</td>\n",
       "      <td>6</td>\n",
       "    </tr>\n",
       "    <tr>\n",
       "      <th>5</th>\n",
       "      <td>29</td>\n",
       "      <td>23.8</td>\n",
       "      <td>0.0</td>\n",
       "      <td>0.0</td>\n",
       "      <td>BADARI_DHAN:chr04:19370000:19400000</td>\n",
       "      <td>3853</td>\n",
       "      <td>3921</td>\n",
       "      <td>(26079)</td>\n",
       "      <td>+</td>\n",
       "      <td>(GCG)n</td>\n",
       "      <td>Simple_repeat</td>\n",
       "      <td>1</td>\n",
       "      <td>69</td>\n",
       "      <td>(0)</td>\n",
       "      <td>7</td>\n",
       "    </tr>\n",
       "    <tr>\n",
       "      <th>6</th>\n",
       "      <td>12</td>\n",
       "      <td>17.4</td>\n",
       "      <td>0.0</td>\n",
       "      <td>5.9</td>\n",
       "      <td>BADARI_DHAN:chr04:19370000:19400000</td>\n",
       "      <td>4072</td>\n",
       "      <td>4107</td>\n",
       "      <td>(25893)</td>\n",
       "      <td>+</td>\n",
       "      <td>(AATT)n</td>\n",
       "      <td>Simple_repeat</td>\n",
       "      <td>1</td>\n",
       "      <td>34</td>\n",
       "      <td>(0)</td>\n",
       "      <td>8</td>\n",
       "    </tr>\n",
       "    <tr>\n",
       "      <th>7</th>\n",
       "      <td>14</td>\n",
       "      <td>0.0</td>\n",
       "      <td>0.0</td>\n",
       "      <td>0.0</td>\n",
       "      <td>BADARI_DHAN:chr04:19370000:19400000</td>\n",
       "      <td>6476</td>\n",
       "      <td>6493</td>\n",
       "      <td>(23507)</td>\n",
       "      <td>+</td>\n",
       "      <td>(GAC)n</td>\n",
       "      <td>Simple_repeat</td>\n",
       "      <td>1</td>\n",
       "      <td>18</td>\n",
       "      <td>(0)</td>\n",
       "      <td>9</td>\n",
       "    </tr>\n",
       "    <tr>\n",
       "      <th>8</th>\n",
       "      <td>16</td>\n",
       "      <td>28.4</td>\n",
       "      <td>1.8</td>\n",
       "      <td>0.0</td>\n",
       "      <td>BADARI_DHAN:chr04:19370000:19400000</td>\n",
       "      <td>6611</td>\n",
       "      <td>6669</td>\n",
       "      <td>(23331)</td>\n",
       "      <td>+</td>\n",
       "      <td>(CGC)n</td>\n",
       "      <td>Simple_repeat</td>\n",
       "      <td>1</td>\n",
       "      <td>60</td>\n",
       "      <td>(0)</td>\n",
       "      <td>10</td>\n",
       "    </tr>\n",
       "    <tr>\n",
       "      <th>9</th>\n",
       "      <td>18</td>\n",
       "      <td>24.4</td>\n",
       "      <td>1.3</td>\n",
       "      <td>6.8</td>\n",
       "      <td>BADARI_DHAN:chr04:19370000:19400000</td>\n",
       "      <td>8442</td>\n",
       "      <td>8518</td>\n",
       "      <td>(21482)</td>\n",
       "      <td>+</td>\n",
       "      <td>(CCG)n</td>\n",
       "      <td>Simple_repeat</td>\n",
       "      <td>1</td>\n",
       "      <td>73</td>\n",
       "      <td>(0)</td>\n",
       "      <td>11</td>\n",
       "    </tr>\n",
       "  </tbody>\n",
       "</table>\n",
       "</div>"
      ],
      "text/plain": [
       "   bitscore  pct_div  pct_del  pct_ins  ... mstart  mstop  mleft  ID\n",
       "0        21     22.2      0.0      1.9  ...      1     53    (0)   1\n",
       "1        13      0.0      7.7      3.7  ...      1     27    (0)   3\n",
       "2        19     17.2      6.5      0.0  ...      1     49    (0)   4\n",
       "3        12     13.9      4.4      6.8  ...      1     44    (0)   5\n",
       "4        16     11.3      4.8      4.8  ...      1     42    (0)   6\n",
       "5        29     23.8      0.0      0.0  ...      1     69    (0)   7\n",
       "6        12     17.4      0.0      5.9  ...      1     34    (0)   8\n",
       "7        14      0.0      0.0      0.0  ...      1     18    (0)   9\n",
       "8        16     28.4      1.8      0.0  ...      1     60    (0)  10\n",
       "9        18     24.4      1.3      6.8  ...      1     73    (0)  11\n",
       "\n",
       "[10 rows x 15 columns]"
      ]
     },
     "execution_count": 8,
     "metadata": {},
     "output_type": "execute_result"
    }
   ],
   "source": [
    "repeatmasker[0:10]"
   ]
  },
  {
   "cell_type": "code",
   "execution_count": 9,
   "metadata": {},
   "outputs": [
    {
     "data": {
      "application/vnd.plotly.v1+json": {
       "config": {
        "plotlyServerURL": "https://plot.ly"
       },
       "data": [
        {
         "alignmentgroup": "True",
         "boxpoints": "all",
         "fillcolor": "rgba(255,255,255,0)",
         "hoverlabel": {
          "namelength": 0
         },
         "hoveron": "points",
         "hovertemplate": "motif=(CGG)n<br>qstart=%{x}<br>query=%{y}",
         "legendgroup": "motif=(CGG)n",
         "line": {
          "color": "rgba(255,255,255,0)"
         },
         "marker": {
          "color": "#636efa"
         },
         "name": "motif=(CGG)n",
         "offsetgroup": "motif=(CGG)n",
         "orientation": "v",
         "pointpos": 0,
         "showlegend": true,
         "type": "box",
         "x": [
          1250,
          21475,
          1250,
          21475,
          1250,
          21475,
          1250,
          21475,
          1250,
          21475,
          1250,
          21475,
          1250,
          21475,
          1250,
          21475,
          1250,
          21475,
          1250,
          21475,
          1250,
          21475,
          1250,
          21475,
          1250,
          21475,
          1250,
          21475,
          1250,
          21475,
          1250,
          21475,
          1250,
          21475,
          1250,
          21475,
          1250,
          21475,
          1250,
          21475,
          1250,
          21475
         ],
         "x0": " ",
         "xaxis": "x",
         "y": [
          "BADARI_DHAN:chr04:19370000:19400000",
          "BADARI_DHAN:chr04:19370000:19400000",
          "C8005:chr04:19370000:19400000",
          "C8005:chr04:19370000:19400000",
          "DEE_JIAO_HUA_LUO:chr04:19370000:19400000",
          "DEE_JIAO_HUA_LUO:chr04:19370000:19400000",
          "HAYAYUKI:chr04:19370000:19400000",
          "HAYAYUKI:chr04:19370000:19400000",
          "IRGSP1.0:chr04:19370000:19400000",
          "IRGSP1.0:chr04:19370000:19400000",
          "JAGUARY:chr04:19370000:19400000",
          "JAGUARY:chr04:19370000:19400000",
          "KALUHEENATI:chr04:19370000:19400000",
          "KALUHEENATI:chr04:19370000:19400000",
          "KASALATH:chr04:19370000:19400000",
          "KASALATH:chr04:19370000:19400000",
          "KEIBOBA:chr04:19370000:19400000",
          "KEIBOBA:chr04:19370000:19400000",
          "MOUKOTOU:chr04:19370000:19400000",
          "MOUKOTOU:chr04:19370000:19400000",
          "NERICA_1:chr04:19370000:19400000",
          "NERICA_1:chr04:19370000:19400000",
          "NORTAI:chr04:19370000:19400000",
          "NORTAI:chr04:19370000:19400000",
          "RATUL:chr04:19370000:19400000",
          "RATUL:chr04:19370000:19400000",
          "REXMONT:chr04:19370000:19400000",
          "REXMONT:chr04:19370000:19400000",
          "SESIA:chr04:19370000:19400000",
          "SESIA:chr04:19370000:19400000",
          "SHONI:chr04:19370000:19400000",
          "SHONI:chr04:19370000:19400000",
          "SURJAMUKHI:chr04:19370000:19400000",
          "SURJAMUKHI:chr04:19370000:19400000",
          "TAKANARI:chr04:19370000:19400000",
          "TAKANARI:chr04:19370000:19400000",
          "TUPA_121-3:chr04:19370000:19400000",
          "TUPA_121-3:chr04:19370000:19400000",
          "TUPA_729:chr04:19370000:19400000",
          "TUPA_729:chr04:19370000:19400000",
          "URASAN:chr04:19370000:19400000",
          "URASAN:chr04:19370000:19400000"
         ],
         "y0": " ",
         "yaxis": "y"
        },
        {
         "alignmentgroup": "True",
         "boxpoints": "all",
         "fillcolor": "rgba(255,255,255,0)",
         "hoverlabel": {
          "namelength": 0
         },
         "hoveron": "points",
         "hovertemplate": "motif=(CGA)n<br>qstart=%{x}<br>query=%{y}",
         "legendgroup": "motif=(CGA)n",
         "line": {
          "color": "rgba(255,255,255,0)"
         },
         "marker": {
          "color": "#EF553B"
         },
         "name": "motif=(CGA)n",
         "offsetgroup": "motif=(CGA)n",
         "orientation": "v",
         "pointpos": 0,
         "showlegend": true,
         "type": "box",
         "x": [
          1550,
          1550,
          1550,
          1550,
          1550,
          1550,
          1550,
          1550,
          1550,
          1550,
          1550,
          1550,
          1550,
          1550,
          1550,
          1550,
          1550,
          1550,
          1550,
          1550,
          1550
         ],
         "x0": " ",
         "xaxis": "x",
         "y": [
          "BADARI_DHAN:chr04:19370000:19400000",
          "C8005:chr04:19370000:19400000",
          "DEE_JIAO_HUA_LUO:chr04:19370000:19400000",
          "HAYAYUKI:chr04:19370000:19400000",
          "IRGSP1.0:chr04:19370000:19400000",
          "JAGUARY:chr04:19370000:19400000",
          "KALUHEENATI:chr04:19370000:19400000",
          "KASALATH:chr04:19370000:19400000",
          "KEIBOBA:chr04:19370000:19400000",
          "MOUKOTOU:chr04:19370000:19400000",
          "NERICA_1:chr04:19370000:19400000",
          "NORTAI:chr04:19370000:19400000",
          "RATUL:chr04:19370000:19400000",
          "REXMONT:chr04:19370000:19400000",
          "SESIA:chr04:19370000:19400000",
          "SHONI:chr04:19370000:19400000",
          "SURJAMUKHI:chr04:19370000:19400000",
          "TAKANARI:chr04:19370000:19400000",
          "TUPA_121-3:chr04:19370000:19400000",
          "TUPA_729:chr04:19370000:19400000",
          "URASAN:chr04:19370000:19400000"
         ],
         "y0": " ",
         "yaxis": "y"
        },
        {
         "alignmentgroup": "True",
         "boxpoints": "all",
         "fillcolor": "rgba(255,255,255,0)",
         "hoverlabel": {
          "namelength": 0
         },
         "hoveron": "points",
         "hovertemplate": "motif=(TC)n<br>qstart=%{x}<br>query=%{y}",
         "legendgroup": "motif=(TC)n",
         "line": {
          "color": "rgba(255,255,255,0)"
         },
         "marker": {
          "color": "#00cc96"
         },
         "name": "motif=(TC)n",
         "offsetgroup": "motif=(TC)n",
         "orientation": "v",
         "pointpos": 0,
         "showlegend": true,
         "type": "box",
         "x": [
          1980,
          8590,
          10236,
          1980,
          8590,
          10236,
          1980,
          8590,
          10236,
          1980,
          8590,
          10236,
          1980,
          8590,
          10236,
          1980,
          8590,
          10236,
          1980,
          8590,
          10236,
          1980,
          8590,
          10236,
          1980,
          8590,
          10236,
          1980,
          8590,
          10236,
          1980,
          8590,
          10236,
          1980,
          8590,
          10236,
          1980,
          8590,
          10236,
          1980,
          8590,
          10236,
          1980,
          8590,
          10236,
          1980,
          8590,
          10236,
          1980,
          8590,
          10236,
          1980,
          8590,
          10236,
          1980,
          8590,
          10236,
          1980,
          8590,
          10236,
          1980,
          8590,
          10236
         ],
         "x0": " ",
         "xaxis": "x",
         "y": [
          "BADARI_DHAN:chr04:19370000:19400000",
          "BADARI_DHAN:chr04:19370000:19400000",
          "BADARI_DHAN:chr04:19370000:19400000",
          "C8005:chr04:19370000:19400000",
          "C8005:chr04:19370000:19400000",
          "C8005:chr04:19370000:19400000",
          "DEE_JIAO_HUA_LUO:chr04:19370000:19400000",
          "DEE_JIAO_HUA_LUO:chr04:19370000:19400000",
          "DEE_JIAO_HUA_LUO:chr04:19370000:19400000",
          "HAYAYUKI:chr04:19370000:19400000",
          "HAYAYUKI:chr04:19370000:19400000",
          "HAYAYUKI:chr04:19370000:19400000",
          "IRGSP1.0:chr04:19370000:19400000",
          "IRGSP1.0:chr04:19370000:19400000",
          "IRGSP1.0:chr04:19370000:19400000",
          "JAGUARY:chr04:19370000:19400000",
          "JAGUARY:chr04:19370000:19400000",
          "JAGUARY:chr04:19370000:19400000",
          "KALUHEENATI:chr04:19370000:19400000",
          "KALUHEENATI:chr04:19370000:19400000",
          "KALUHEENATI:chr04:19370000:19400000",
          "KASALATH:chr04:19370000:19400000",
          "KASALATH:chr04:19370000:19400000",
          "KASALATH:chr04:19370000:19400000",
          "KEIBOBA:chr04:19370000:19400000",
          "KEIBOBA:chr04:19370000:19400000",
          "KEIBOBA:chr04:19370000:19400000",
          "MOUKOTOU:chr04:19370000:19400000",
          "MOUKOTOU:chr04:19370000:19400000",
          "MOUKOTOU:chr04:19370000:19400000",
          "NERICA_1:chr04:19370000:19400000",
          "NERICA_1:chr04:19370000:19400000",
          "NERICA_1:chr04:19370000:19400000",
          "NORTAI:chr04:19370000:19400000",
          "NORTAI:chr04:19370000:19400000",
          "NORTAI:chr04:19370000:19400000",
          "RATUL:chr04:19370000:19400000",
          "RATUL:chr04:19370000:19400000",
          "RATUL:chr04:19370000:19400000",
          "REXMONT:chr04:19370000:19400000",
          "REXMONT:chr04:19370000:19400000",
          "REXMONT:chr04:19370000:19400000",
          "SESIA:chr04:19370000:19400000",
          "SESIA:chr04:19370000:19400000",
          "SESIA:chr04:19370000:19400000",
          "SHONI:chr04:19370000:19400000",
          "SHONI:chr04:19370000:19400000",
          "SHONI:chr04:19370000:19400000",
          "SURJAMUKHI:chr04:19370000:19400000",
          "SURJAMUKHI:chr04:19370000:19400000",
          "SURJAMUKHI:chr04:19370000:19400000",
          "TAKANARI:chr04:19370000:19400000",
          "TAKANARI:chr04:19370000:19400000",
          "TAKANARI:chr04:19370000:19400000",
          "TUPA_121-3:chr04:19370000:19400000",
          "TUPA_121-3:chr04:19370000:19400000",
          "TUPA_121-3:chr04:19370000:19400000",
          "TUPA_729:chr04:19370000:19400000",
          "TUPA_729:chr04:19370000:19400000",
          "TUPA_729:chr04:19370000:19400000",
          "URASAN:chr04:19370000:19400000",
          "URASAN:chr04:19370000:19400000",
          "URASAN:chr04:19370000:19400000"
         ],
         "y0": " ",
         "yaxis": "y"
        },
        {
         "alignmentgroup": "True",
         "boxpoints": "all",
         "fillcolor": "rgba(255,255,255,0)",
         "hoverlabel": {
          "namelength": 0
         },
         "hoveron": "points",
         "hovertemplate": "motif=GA-rich<br>qstart=%{x}<br>query=%{y}",
         "legendgroup": "motif=GA-rich",
         "line": {
          "color": "rgba(255,255,255,0)"
         },
         "marker": {
          "color": "#ab63fa"
         },
         "name": "motif=GA-rich",
         "offsetgroup": "motif=GA-rich",
         "orientation": "v",
         "pointpos": 0,
         "showlegend": true,
         "type": "box",
         "x": [
          2719,
          2719,
          2719,
          2719,
          2719,
          2719,
          2719,
          2719,
          2719,
          2719,
          2719,
          2719,
          2719,
          2719,
          2719,
          2719,
          2719,
          2719
         ],
         "x0": " ",
         "xaxis": "x",
         "y": [
          "BADARI_DHAN:chr04:19370000:19400000",
          "C8005:chr04:19370000:19400000",
          "HAYAYUKI:chr04:19370000:19400000",
          "IRGSP1.0:chr04:19370000:19400000",
          "JAGUARY:chr04:19370000:19400000",
          "KALUHEENATI:chr04:19370000:19400000",
          "KASALATH:chr04:19370000:19400000",
          "MOUKOTOU:chr04:19370000:19400000",
          "NERICA_1:chr04:19370000:19400000",
          "NORTAI:chr04:19370000:19400000",
          "RATUL:chr04:19370000:19400000",
          "REXMONT:chr04:19370000:19400000",
          "SESIA:chr04:19370000:19400000",
          "SHONI:chr04:19370000:19400000",
          "SURJAMUKHI:chr04:19370000:19400000",
          "TUPA_121-3:chr04:19370000:19400000",
          "TUPA_729:chr04:19370000:19400000",
          "URASAN:chr04:19370000:19400000"
         ],
         "y0": " ",
         "yaxis": "y"
        },
        {
         "alignmentgroup": "True",
         "boxpoints": "all",
         "fillcolor": "rgba(255,255,255,0)",
         "hoverlabel": {
          "namelength": 0
         },
         "hoveron": "points",
         "hovertemplate": "motif=(GCC)n<br>qstart=%{x}<br>query=%{y}",
         "legendgroup": "motif=(GCC)n",
         "line": {
          "color": "rgba(255,255,255,0)"
         },
         "marker": {
          "color": "#FFA15A"
         },
         "name": "motif=(GCC)n",
         "offsetgroup": "motif=(GCC)n",
         "orientation": "v",
         "pointpos": 0,
         "showlegend": true,
         "type": "box",
         "x": [
          3705,
          3705,
          3705,
          3705,
          3705,
          3705,
          3705,
          3705,
          3705,
          3705,
          3705,
          3705,
          3705,
          3705,
          3705,
          3705,
          3705,
          3705,
          3705,
          3705,
          3705
         ],
         "x0": " ",
         "xaxis": "x",
         "y": [
          "BADARI_DHAN:chr04:19370000:19400000",
          "C8005:chr04:19370000:19400000",
          "DEE_JIAO_HUA_LUO:chr04:19370000:19400000",
          "HAYAYUKI:chr04:19370000:19400000",
          "IRGSP1.0:chr04:19370000:19400000",
          "JAGUARY:chr04:19370000:19400000",
          "KALUHEENATI:chr04:19370000:19400000",
          "KASALATH:chr04:19370000:19400000",
          "KEIBOBA:chr04:19370000:19400000",
          "MOUKOTOU:chr04:19370000:19400000",
          "NERICA_1:chr04:19370000:19400000",
          "NORTAI:chr04:19370000:19400000",
          "RATUL:chr04:19370000:19400000",
          "REXMONT:chr04:19370000:19400000",
          "SESIA:chr04:19370000:19400000",
          "SHONI:chr04:19370000:19400000",
          "SURJAMUKHI:chr04:19370000:19400000",
          "TAKANARI:chr04:19370000:19400000",
          "TUPA_121-3:chr04:19370000:19400000",
          "TUPA_729:chr04:19370000:19400000",
          "URASAN:chr04:19370000:19400000"
         ],
         "y0": " ",
         "yaxis": "y"
        },
        {
         "alignmentgroup": "True",
         "boxpoints": "all",
         "fillcolor": "rgba(255,255,255,0)",
         "hoverlabel": {
          "namelength": 0
         },
         "hoveron": "points",
         "hovertemplate": "motif=(GCG)n<br>qstart=%{x}<br>query=%{y}",
         "legendgroup": "motif=(GCG)n",
         "line": {
          "color": "rgba(255,255,255,0)"
         },
         "marker": {
          "color": "#19d3f3"
         },
         "name": "motif=(GCG)n",
         "offsetgroup": "motif=(GCG)n",
         "orientation": "v",
         "pointpos": 0,
         "showlegend": true,
         "type": "box",
         "x": [
          3853,
          3853,
          3853,
          3853,
          3853,
          3853,
          3853,
          3853,
          3853,
          3853,
          3853,
          3853,
          3853,
          3853,
          3853,
          3853,
          3853,
          3853,
          3853,
          3853,
          3853
         ],
         "x0": " ",
         "xaxis": "x",
         "y": [
          "BADARI_DHAN:chr04:19370000:19400000",
          "C8005:chr04:19370000:19400000",
          "DEE_JIAO_HUA_LUO:chr04:19370000:19400000",
          "HAYAYUKI:chr04:19370000:19400000",
          "IRGSP1.0:chr04:19370000:19400000",
          "JAGUARY:chr04:19370000:19400000",
          "KALUHEENATI:chr04:19370000:19400000",
          "KASALATH:chr04:19370000:19400000",
          "KEIBOBA:chr04:19370000:19400000",
          "MOUKOTOU:chr04:19370000:19400000",
          "NERICA_1:chr04:19370000:19400000",
          "NORTAI:chr04:19370000:19400000",
          "RATUL:chr04:19370000:19400000",
          "REXMONT:chr04:19370000:19400000",
          "SESIA:chr04:19370000:19400000",
          "SHONI:chr04:19370000:19400000",
          "SURJAMUKHI:chr04:19370000:19400000",
          "TAKANARI:chr04:19370000:19400000",
          "TUPA_121-3:chr04:19370000:19400000",
          "TUPA_729:chr04:19370000:19400000",
          "URASAN:chr04:19370000:19400000"
         ],
         "y0": " ",
         "yaxis": "y"
        },
        {
         "alignmentgroup": "True",
         "boxpoints": "all",
         "fillcolor": "rgba(255,255,255,0)",
         "hoverlabel": {
          "namelength": 0
         },
         "hoveron": "points",
         "hovertemplate": "motif=(AATT)n<br>qstart=%{x}<br>query=%{y}",
         "legendgroup": "motif=(AATT)n",
         "line": {
          "color": "rgba(255,255,255,0)"
         },
         "marker": {
          "color": "#FF6692"
         },
         "name": "motif=(AATT)n",
         "offsetgroup": "motif=(AATT)n",
         "orientation": "v",
         "pointpos": 0,
         "showlegend": true,
         "type": "box",
         "x": [
          4072,
          4072,
          4072,
          4072,
          4072,
          4072,
          4072,
          4072,
          4072,
          4072,
          4072,
          4072,
          4072,
          4072,
          4072,
          4072,
          4072,
          4072,
          4072,
          4072,
          4072
         ],
         "x0": " ",
         "xaxis": "x",
         "y": [
          "BADARI_DHAN:chr04:19370000:19400000",
          "C8005:chr04:19370000:19400000",
          "DEE_JIAO_HUA_LUO:chr04:19370000:19400000",
          "HAYAYUKI:chr04:19370000:19400000",
          "IRGSP1.0:chr04:19370000:19400000",
          "JAGUARY:chr04:19370000:19400000",
          "KALUHEENATI:chr04:19370000:19400000",
          "KASALATH:chr04:19370000:19400000",
          "KEIBOBA:chr04:19370000:19400000",
          "MOUKOTOU:chr04:19370000:19400000",
          "NERICA_1:chr04:19370000:19400000",
          "NORTAI:chr04:19370000:19400000",
          "RATUL:chr04:19370000:19400000",
          "REXMONT:chr04:19370000:19400000",
          "SESIA:chr04:19370000:19400000",
          "SHONI:chr04:19370000:19400000",
          "SURJAMUKHI:chr04:19370000:19400000",
          "TAKANARI:chr04:19370000:19400000",
          "TUPA_121-3:chr04:19370000:19400000",
          "TUPA_729:chr04:19370000:19400000",
          "URASAN:chr04:19370000:19400000"
         ],
         "y0": " ",
         "yaxis": "y"
        },
        {
         "alignmentgroup": "True",
         "boxpoints": "all",
         "fillcolor": "rgba(255,255,255,0)",
         "hoverlabel": {
          "namelength": 0
         },
         "hoveron": "points",
         "hovertemplate": "motif=(GAC)n<br>qstart=%{x}<br>query=%{y}",
         "legendgroup": "motif=(GAC)n",
         "line": {
          "color": "rgba(255,255,255,0)"
         },
         "marker": {
          "color": "#B6E880"
         },
         "name": "motif=(GAC)n",
         "offsetgroup": "motif=(GAC)n",
         "orientation": "v",
         "pointpos": 0,
         "showlegend": true,
         "type": "box",
         "x": [
          6476,
          6476,
          6476,
          6722,
          6476,
          6476,
          6476,
          6476,
          6476,
          6476,
          6722,
          6476,
          6476,
          6476,
          6476,
          6476,
          6476,
          6476,
          6476,
          6476,
          6722,
          6476,
          6476,
          6476
         ],
         "x0": " ",
         "xaxis": "x",
         "y": [
          "BADARI_DHAN:chr04:19370000:19400000",
          "C8005:chr04:19370000:19400000",
          "DEE_JIAO_HUA_LUO:chr04:19370000:19400000",
          "DEE_JIAO_HUA_LUO:chr04:19370000:19400000",
          "HAYAYUKI:chr04:19370000:19400000",
          "IRGSP1.0:chr04:19370000:19400000",
          "JAGUARY:chr04:19370000:19400000",
          "KALUHEENATI:chr04:19370000:19400000",
          "KASALATH:chr04:19370000:19400000",
          "KEIBOBA:chr04:19370000:19400000",
          "KEIBOBA:chr04:19370000:19400000",
          "MOUKOTOU:chr04:19370000:19400000",
          "NERICA_1:chr04:19370000:19400000",
          "NORTAI:chr04:19370000:19400000",
          "RATUL:chr04:19370000:19400000",
          "REXMONT:chr04:19370000:19400000",
          "SESIA:chr04:19370000:19400000",
          "SHONI:chr04:19370000:19400000",
          "SURJAMUKHI:chr04:19370000:19400000",
          "TAKANARI:chr04:19370000:19400000",
          "TAKANARI:chr04:19370000:19400000",
          "TUPA_121-3:chr04:19370000:19400000",
          "TUPA_729:chr04:19370000:19400000",
          "URASAN:chr04:19370000:19400000"
         ],
         "y0": " ",
         "yaxis": "y"
        },
        {
         "alignmentgroup": "True",
         "boxpoints": "all",
         "fillcolor": "rgba(255,255,255,0)",
         "hoverlabel": {
          "namelength": 0
         },
         "hoveron": "points",
         "hovertemplate": "motif=(CGC)n<br>qstart=%{x}<br>query=%{y}",
         "legendgroup": "motif=(CGC)n",
         "line": {
          "color": "rgba(255,255,255,0)"
         },
         "marker": {
          "color": "#FF97FF"
         },
         "name": "motif=(CGC)n",
         "offsetgroup": "motif=(CGC)n",
         "orientation": "v",
         "pointpos": 0,
         "showlegend": true,
         "type": "box",
         "x": [
          6611,
          6611,
          6611,
          6611,
          6611,
          6611,
          6611,
          6611,
          6611,
          6611,
          6611,
          6611,
          6611,
          6611,
          6611,
          6611,
          6611,
          6611,
          6611,
          6611,
          6611
         ],
         "x0": " ",
         "xaxis": "x",
         "y": [
          "BADARI_DHAN:chr04:19370000:19400000",
          "C8005:chr04:19370000:19400000",
          "DEE_JIAO_HUA_LUO:chr04:19370000:19400000",
          "HAYAYUKI:chr04:19370000:19400000",
          "IRGSP1.0:chr04:19370000:19400000",
          "JAGUARY:chr04:19370000:19400000",
          "KALUHEENATI:chr04:19370000:19400000",
          "KASALATH:chr04:19370000:19400000",
          "KEIBOBA:chr04:19370000:19400000",
          "MOUKOTOU:chr04:19370000:19400000",
          "NERICA_1:chr04:19370000:19400000",
          "NORTAI:chr04:19370000:19400000",
          "RATUL:chr04:19370000:19400000",
          "REXMONT:chr04:19370000:19400000",
          "SESIA:chr04:19370000:19400000",
          "SHONI:chr04:19370000:19400000",
          "SURJAMUKHI:chr04:19370000:19400000",
          "TAKANARI:chr04:19370000:19400000",
          "TUPA_121-3:chr04:19370000:19400000",
          "TUPA_729:chr04:19370000:19400000",
          "URASAN:chr04:19370000:19400000"
         ],
         "y0": " ",
         "yaxis": "y"
        },
        {
         "alignmentgroup": "True",
         "boxpoints": "all",
         "fillcolor": "rgba(255,255,255,0)",
         "hoverlabel": {
          "namelength": 0
         },
         "hoveron": "points",
         "hovertemplate": "motif=(CCG)n<br>qstart=%{x}<br>query=%{y}",
         "legendgroup": "motif=(CCG)n",
         "line": {
          "color": "rgba(255,255,255,0)"
         },
         "marker": {
          "color": "#FECB52"
         },
         "name": "motif=(CCG)n",
         "offsetgroup": "motif=(CCG)n",
         "orientation": "v",
         "pointpos": 0,
         "showlegend": true,
         "type": "box",
         "x": [
          8442,
          8442,
          8442,
          8442,
          8442,
          8442,
          8442,
          8442,
          8442,
          8442,
          8442,
          8442,
          8442,
          8442,
          8442,
          8442,
          8442,
          8442,
          8442,
          8442,
          8442
         ],
         "x0": " ",
         "xaxis": "x",
         "y": [
          "BADARI_DHAN:chr04:19370000:19400000",
          "C8005:chr04:19370000:19400000",
          "DEE_JIAO_HUA_LUO:chr04:19370000:19400000",
          "HAYAYUKI:chr04:19370000:19400000",
          "IRGSP1.0:chr04:19370000:19400000",
          "JAGUARY:chr04:19370000:19400000",
          "KALUHEENATI:chr04:19370000:19400000",
          "KASALATH:chr04:19370000:19400000",
          "KEIBOBA:chr04:19370000:19400000",
          "MOUKOTOU:chr04:19370000:19400000",
          "NERICA_1:chr04:19370000:19400000",
          "NORTAI:chr04:19370000:19400000",
          "RATUL:chr04:19370000:19400000",
          "REXMONT:chr04:19370000:19400000",
          "SESIA:chr04:19370000:19400000",
          "SHONI:chr04:19370000:19400000",
          "SURJAMUKHI:chr04:19370000:19400000",
          "TAKANARI:chr04:19370000:19400000",
          "TUPA_121-3:chr04:19370000:19400000",
          "TUPA_729:chr04:19370000:19400000",
          "URASAN:chr04:19370000:19400000"
         ],
         "y0": " ",
         "yaxis": "y"
        },
        {
         "alignmentgroup": "True",
         "boxpoints": "all",
         "fillcolor": "rgba(255,255,255,0)",
         "hoverlabel": {
          "namelength": 0
         },
         "hoveron": "points",
         "hovertemplate": "motif=(ATC)n<br>qstart=%{x}<br>query=%{y}",
         "legendgroup": "motif=(ATC)n",
         "line": {
          "color": "rgba(255,255,255,0)"
         },
         "marker": {
          "color": "#636efa"
         },
         "name": "motif=(ATC)n",
         "offsetgroup": "motif=(ATC)n",
         "orientation": "v",
         "pointpos": 0,
         "showlegend": true,
         "type": "box",
         "x": [
          19861,
          19861,
          19861,
          19861,
          19861,
          19861,
          19861,
          19861,
          19861,
          19861,
          19861,
          19861,
          19861,
          19861,
          19861,
          19861,
          19861,
          19861,
          19861,
          19861,
          19861
         ],
         "x0": " ",
         "xaxis": "x",
         "y": [
          "BADARI_DHAN:chr04:19370000:19400000",
          "C8005:chr04:19370000:19400000",
          "DEE_JIAO_HUA_LUO:chr04:19370000:19400000",
          "HAYAYUKI:chr04:19370000:19400000",
          "IRGSP1.0:chr04:19370000:19400000",
          "JAGUARY:chr04:19370000:19400000",
          "KALUHEENATI:chr04:19370000:19400000",
          "KASALATH:chr04:19370000:19400000",
          "KEIBOBA:chr04:19370000:19400000",
          "MOUKOTOU:chr04:19370000:19400000",
          "NERICA_1:chr04:19370000:19400000",
          "NORTAI:chr04:19370000:19400000",
          "RATUL:chr04:19370000:19400000",
          "REXMONT:chr04:19370000:19400000",
          "SESIA:chr04:19370000:19400000",
          "SHONI:chr04:19370000:19400000",
          "SURJAMUKHI:chr04:19370000:19400000",
          "TAKANARI:chr04:19370000:19400000",
          "TUPA_121-3:chr04:19370000:19400000",
          "TUPA_729:chr04:19370000:19400000",
          "URASAN:chr04:19370000:19400000"
         ],
         "y0": " ",
         "yaxis": "y"
        },
        {
         "alignmentgroup": "True",
         "boxpoints": "all",
         "fillcolor": "rgba(255,255,255,0)",
         "hoverlabel": {
          "namelength": 0
         },
         "hoveron": "points",
         "hovertemplate": "motif=(GGAGTC)n<br>qstart=%{x}<br>query=%{y}",
         "legendgroup": "motif=(GGAGTC)n",
         "line": {
          "color": "rgba(255,255,255,0)"
         },
         "marker": {
          "color": "#EF553B"
         },
         "name": "motif=(GGAGTC)n",
         "offsetgroup": "motif=(GGAGTC)n",
         "orientation": "v",
         "pointpos": 0,
         "showlegend": true,
         "type": "box",
         "x": [
          21514,
          21514,
          21514,
          21514,
          21514,
          21514,
          21514,
          21514,
          21514,
          21514,
          21514,
          21514,
          21514,
          21514,
          21514,
          21514,
          21514,
          21514,
          21514,
          21514,
          21514
         ],
         "x0": " ",
         "xaxis": "x",
         "y": [
          "BADARI_DHAN:chr04:19370000:19400000",
          "C8005:chr04:19370000:19400000",
          "DEE_JIAO_HUA_LUO:chr04:19370000:19400000",
          "HAYAYUKI:chr04:19370000:19400000",
          "IRGSP1.0:chr04:19370000:19400000",
          "JAGUARY:chr04:19370000:19400000",
          "KALUHEENATI:chr04:19370000:19400000",
          "KASALATH:chr04:19370000:19400000",
          "KEIBOBA:chr04:19370000:19400000",
          "MOUKOTOU:chr04:19370000:19400000",
          "NERICA_1:chr04:19370000:19400000",
          "NORTAI:chr04:19370000:19400000",
          "RATUL:chr04:19370000:19400000",
          "REXMONT:chr04:19370000:19400000",
          "SESIA:chr04:19370000:19400000",
          "SHONI:chr04:19370000:19400000",
          "SURJAMUKHI:chr04:19370000:19400000",
          "TAKANARI:chr04:19370000:19400000",
          "TUPA_121-3:chr04:19370000:19400000",
          "TUPA_729:chr04:19370000:19400000",
          "URASAN:chr04:19370000:19400000"
         ],
         "y0": " ",
         "yaxis": "y"
        },
        {
         "alignmentgroup": "True",
         "boxpoints": "all",
         "fillcolor": "rgba(255,255,255,0)",
         "hoverlabel": {
          "namelength": 0
         },
         "hoveron": "points",
         "hovertemplate": "motif=(AT)n<br>qstart=%{x}<br>query=%{y}",
         "legendgroup": "motif=(AT)n",
         "line": {
          "color": "rgba(255,255,255,0)"
         },
         "marker": {
          "color": "#00cc96"
         },
         "name": "motif=(AT)n",
         "offsetgroup": "motif=(AT)n",
         "orientation": "v",
         "pointpos": 0,
         "showlegend": true,
         "type": "box",
         "x": [
          21746,
          21746,
          21746,
          21746,
          21746,
          21746,
          21746,
          21746,
          21746,
          21746,
          21746,
          21746,
          21746,
          21746,
          21746,
          21746,
          21746,
          21746,
          21746,
          21746,
          21746
         ],
         "x0": " ",
         "xaxis": "x",
         "y": [
          "BADARI_DHAN:chr04:19370000:19400000",
          "C8005:chr04:19370000:19400000",
          "DEE_JIAO_HUA_LUO:chr04:19370000:19400000",
          "HAYAYUKI:chr04:19370000:19400000",
          "IRGSP1.0:chr04:19370000:19400000",
          "JAGUARY:chr04:19370000:19400000",
          "KALUHEENATI:chr04:19370000:19400000",
          "KASALATH:chr04:19370000:19400000",
          "KEIBOBA:chr04:19370000:19400000",
          "MOUKOTOU:chr04:19370000:19400000",
          "NERICA_1:chr04:19370000:19400000",
          "NORTAI:chr04:19370000:19400000",
          "RATUL:chr04:19370000:19400000",
          "REXMONT:chr04:19370000:19400000",
          "SESIA:chr04:19370000:19400000",
          "SHONI:chr04:19370000:19400000",
          "SURJAMUKHI:chr04:19370000:19400000",
          "TAKANARI:chr04:19370000:19400000",
          "TUPA_121-3:chr04:19370000:19400000",
          "TUPA_729:chr04:19370000:19400000",
          "URASAN:chr04:19370000:19400000"
         ],
         "y0": " ",
         "yaxis": "y"
        },
        {
         "alignmentgroup": "True",
         "boxpoints": "all",
         "fillcolor": "rgba(255,255,255,0)",
         "hoverlabel": {
          "namelength": 0
         },
         "hoveron": "points",
         "hovertemplate": "motif=(ATAATT)n<br>qstart=%{x}<br>query=%{y}",
         "legendgroup": "motif=(ATAATT)n",
         "line": {
          "color": "rgba(255,255,255,0)"
         },
         "marker": {
          "color": "#ab63fa"
         },
         "name": "motif=(ATAATT)n",
         "offsetgroup": "motif=(ATAATT)n",
         "orientation": "v",
         "pointpos": 0,
         "showlegend": true,
         "type": "box",
         "x": [
          22960,
          22960,
          22960,
          22960,
          22960,
          22960,
          22960,
          22960,
          22960,
          22960,
          22960,
          22960,
          22960,
          22960,
          22960,
          22960,
          22960,
          22960,
          22960,
          22960,
          22960
         ],
         "x0": " ",
         "xaxis": "x",
         "y": [
          "BADARI_DHAN:chr04:19370000:19400000",
          "C8005:chr04:19370000:19400000",
          "DEE_JIAO_HUA_LUO:chr04:19370000:19400000",
          "HAYAYUKI:chr04:19370000:19400000",
          "IRGSP1.0:chr04:19370000:19400000",
          "JAGUARY:chr04:19370000:19400000",
          "KALUHEENATI:chr04:19370000:19400000",
          "KASALATH:chr04:19370000:19400000",
          "KEIBOBA:chr04:19370000:19400000",
          "MOUKOTOU:chr04:19370000:19400000",
          "NERICA_1:chr04:19370000:19400000",
          "NORTAI:chr04:19370000:19400000",
          "RATUL:chr04:19370000:19400000",
          "REXMONT:chr04:19370000:19400000",
          "SESIA:chr04:19370000:19400000",
          "SHONI:chr04:19370000:19400000",
          "SURJAMUKHI:chr04:19370000:19400000",
          "TAKANARI:chr04:19370000:19400000",
          "TUPA_121-3:chr04:19370000:19400000",
          "TUPA_729:chr04:19370000:19400000",
          "URASAN:chr04:19370000:19400000"
         ],
         "y0": " ",
         "yaxis": "y"
        },
        {
         "alignmentgroup": "True",
         "boxpoints": "all",
         "fillcolor": "rgba(255,255,255,0)",
         "hoverlabel": {
          "namelength": 0
         },
         "hoveron": "points",
         "hovertemplate": "motif=(A)n<br>qstart=%{x}<br>query=%{y}",
         "legendgroup": "motif=(A)n",
         "line": {
          "color": "rgba(255,255,255,0)"
         },
         "marker": {
          "color": "#FFA15A"
         },
         "name": "motif=(A)n",
         "offsetgroup": "motif=(A)n",
         "orientation": "v",
         "pointpos": 0,
         "showlegend": true,
         "type": "box",
         "x": [
          26492,
          26492,
          26492,
          26492,
          26492,
          26492,
          26492,
          26492,
          26492,
          26492,
          26492,
          26492,
          26492,
          26492,
          26492,
          26492,
          26492,
          26492,
          26492,
          26492,
          26492
         ],
         "x0": " ",
         "xaxis": "x",
         "y": [
          "BADARI_DHAN:chr04:19370000:19400000",
          "C8005:chr04:19370000:19400000",
          "DEE_JIAO_HUA_LUO:chr04:19370000:19400000",
          "HAYAYUKI:chr04:19370000:19400000",
          "IRGSP1.0:chr04:19370000:19400000",
          "JAGUARY:chr04:19370000:19400000",
          "KALUHEENATI:chr04:19370000:19400000",
          "KASALATH:chr04:19370000:19400000",
          "KEIBOBA:chr04:19370000:19400000",
          "MOUKOTOU:chr04:19370000:19400000",
          "NERICA_1:chr04:19370000:19400000",
          "NORTAI:chr04:19370000:19400000",
          "RATUL:chr04:19370000:19400000",
          "REXMONT:chr04:19370000:19400000",
          "SESIA:chr04:19370000:19400000",
          "SHONI:chr04:19370000:19400000",
          "SURJAMUKHI:chr04:19370000:19400000",
          "TAKANARI:chr04:19370000:19400000",
          "TUPA_121-3:chr04:19370000:19400000",
          "TUPA_729:chr04:19370000:19400000",
          "URASAN:chr04:19370000:19400000"
         ],
         "y0": " ",
         "yaxis": "y"
        },
        {
         "alignmentgroup": "True",
         "boxpoints": "all",
         "fillcolor": "rgba(255,255,255,0)",
         "hoverlabel": {
          "namelength": 0
         },
         "hoveron": "points",
         "hovertemplate": "motif=(CGCCGC)n<br>qstart=%{x}<br>query=%{y}",
         "legendgroup": "motif=(CGCCGC)n",
         "line": {
          "color": "rgba(255,255,255,0)"
         },
         "marker": {
          "color": "#19d3f3"
         },
         "name": "motif=(CGCCGC)n",
         "offsetgroup": "motif=(CGCCGC)n",
         "orientation": "v",
         "pointpos": 0,
         "showlegend": true,
         "type": "box",
         "x": [
          26526,
          26526,
          26526,
          26526,
          26526,
          26526,
          26526,
          26526,
          26526,
          26526,
          26526,
          26526,
          26526,
          26526,
          26526,
          26526,
          26526,
          26526,
          26526,
          26526,
          26526
         ],
         "x0": " ",
         "xaxis": "x",
         "y": [
          "BADARI_DHAN:chr04:19370000:19400000",
          "C8005:chr04:19370000:19400000",
          "DEE_JIAO_HUA_LUO:chr04:19370000:19400000",
          "HAYAYUKI:chr04:19370000:19400000",
          "IRGSP1.0:chr04:19370000:19400000",
          "JAGUARY:chr04:19370000:19400000",
          "KALUHEENATI:chr04:19370000:19400000",
          "KASALATH:chr04:19370000:19400000",
          "KEIBOBA:chr04:19370000:19400000",
          "MOUKOTOU:chr04:19370000:19400000",
          "NERICA_1:chr04:19370000:19400000",
          "NORTAI:chr04:19370000:19400000",
          "RATUL:chr04:19370000:19400000",
          "REXMONT:chr04:19370000:19400000",
          "SESIA:chr04:19370000:19400000",
          "SHONI:chr04:19370000:19400000",
          "SURJAMUKHI:chr04:19370000:19400000",
          "TAKANARI:chr04:19370000:19400000",
          "TUPA_121-3:chr04:19370000:19400000",
          "TUPA_729:chr04:19370000:19400000",
          "URASAN:chr04:19370000:19400000"
         ],
         "y0": " ",
         "yaxis": "y"
        },
        {
         "alignmentgroup": "True",
         "boxpoints": "all",
         "fillcolor": "rgba(255,255,255,0)",
         "hoverlabel": {
          "namelength": 0
         },
         "hoveron": "points",
         "hovertemplate": "motif=G-rich<br>qstart=%{x}<br>query=%{y}",
         "legendgroup": "motif=G-rich",
         "line": {
          "color": "rgba(255,255,255,0)"
         },
         "marker": {
          "color": "#FF6692"
         },
         "name": "motif=G-rich",
         "offsetgroup": "motif=G-rich",
         "orientation": "v",
         "pointpos": 0,
         "showlegend": true,
         "type": "box",
         "x": [
          26649,
          26649,
          26649,
          26649,
          26649,
          26649,
          26649,
          26649,
          26649,
          26649,
          26649,
          26649,
          26649,
          26649,
          26649,
          26649,
          26649,
          26649,
          26649,
          26649,
          26649
         ],
         "x0": " ",
         "xaxis": "x",
         "y": [
          "BADARI_DHAN:chr04:19370000:19400000",
          "C8005:chr04:19370000:19400000",
          "DEE_JIAO_HUA_LUO:chr04:19370000:19400000",
          "HAYAYUKI:chr04:19370000:19400000",
          "IRGSP1.0:chr04:19370000:19400000",
          "JAGUARY:chr04:19370000:19400000",
          "KALUHEENATI:chr04:19370000:19400000",
          "KASALATH:chr04:19370000:19400000",
          "KEIBOBA:chr04:19370000:19400000",
          "MOUKOTOU:chr04:19370000:19400000",
          "NERICA_1:chr04:19370000:19400000",
          "NORTAI:chr04:19370000:19400000",
          "RATUL:chr04:19370000:19400000",
          "REXMONT:chr04:19370000:19400000",
          "SESIA:chr04:19370000:19400000",
          "SHONI:chr04:19370000:19400000",
          "SURJAMUKHI:chr04:19370000:19400000",
          "TAKANARI:chr04:19370000:19400000",
          "TUPA_121-3:chr04:19370000:19400000",
          "TUPA_729:chr04:19370000:19400000",
          "URASAN:chr04:19370000:19400000"
         ],
         "y0": " ",
         "yaxis": "y"
        },
        {
         "alignmentgroup": "True",
         "boxpoints": "all",
         "fillcolor": "rgba(255,255,255,0)",
         "hoverlabel": {
          "namelength": 0
         },
         "hoveron": "points",
         "hovertemplate": "motif=(CGT)n<br>qstart=%{x}<br>query=%{y}",
         "legendgroup": "motif=(CGT)n",
         "line": {
          "color": "rgba(255,255,255,0)"
         },
         "marker": {
          "color": "#B6E880"
         },
         "name": "motif=(CGT)n",
         "offsetgroup": "motif=(CGT)n",
         "orientation": "v",
         "pointpos": 0,
         "showlegend": true,
         "type": "box",
         "x": [
          1348,
          1348,
          1348
         ],
         "x0": " ",
         "xaxis": "x",
         "y": [
          "DEE_JIAO_HUA_LUO:chr04:19370000:19400000",
          "KEIBOBA:chr04:19370000:19400000",
          "TAKANARI:chr04:19370000:19400000"
         ],
         "y0": " ",
         "yaxis": "y"
        }
       ],
       "layout": {
        "autosize": true,
        "boxmode": "group",
        "legend": {
         "tracegroupgap": 0
        },
        "margin": {
         "t": 60
        },
        "template": {
         "data": {
          "bar": [
           {
            "error_x": {
             "color": "#2a3f5f"
            },
            "error_y": {
             "color": "#2a3f5f"
            },
            "marker": {
             "line": {
              "color": "#E5ECF6",
              "width": 0.5
             }
            },
            "type": "bar"
           }
          ],
          "barpolar": [
           {
            "marker": {
             "line": {
              "color": "#E5ECF6",
              "width": 0.5
             }
            },
            "type": "barpolar"
           }
          ],
          "carpet": [
           {
            "aaxis": {
             "endlinecolor": "#2a3f5f",
             "gridcolor": "white",
             "linecolor": "white",
             "minorgridcolor": "white",
             "startlinecolor": "#2a3f5f"
            },
            "baxis": {
             "endlinecolor": "#2a3f5f",
             "gridcolor": "white",
             "linecolor": "white",
             "minorgridcolor": "white",
             "startlinecolor": "#2a3f5f"
            },
            "type": "carpet"
           }
          ],
          "choropleth": [
           {
            "colorbar": {
             "outlinewidth": 0,
             "ticks": ""
            },
            "type": "choropleth"
           }
          ],
          "contour": [
           {
            "colorbar": {
             "outlinewidth": 0,
             "ticks": ""
            },
            "colorscale": [
             [
              0,
              "#0d0887"
             ],
             [
              0.1111111111111111,
              "#46039f"
             ],
             [
              0.2222222222222222,
              "#7201a8"
             ],
             [
              0.3333333333333333,
              "#9c179e"
             ],
             [
              0.4444444444444444,
              "#bd3786"
             ],
             [
              0.5555555555555556,
              "#d8576b"
             ],
             [
              0.6666666666666666,
              "#ed7953"
             ],
             [
              0.7777777777777778,
              "#fb9f3a"
             ],
             [
              0.8888888888888888,
              "#fdca26"
             ],
             [
              1,
              "#f0f921"
             ]
            ],
            "type": "contour"
           }
          ],
          "contourcarpet": [
           {
            "colorbar": {
             "outlinewidth": 0,
             "ticks": ""
            },
            "type": "contourcarpet"
           }
          ],
          "heatmap": [
           {
            "colorbar": {
             "outlinewidth": 0,
             "ticks": ""
            },
            "colorscale": [
             [
              0,
              "#0d0887"
             ],
             [
              0.1111111111111111,
              "#46039f"
             ],
             [
              0.2222222222222222,
              "#7201a8"
             ],
             [
              0.3333333333333333,
              "#9c179e"
             ],
             [
              0.4444444444444444,
              "#bd3786"
             ],
             [
              0.5555555555555556,
              "#d8576b"
             ],
             [
              0.6666666666666666,
              "#ed7953"
             ],
             [
              0.7777777777777778,
              "#fb9f3a"
             ],
             [
              0.8888888888888888,
              "#fdca26"
             ],
             [
              1,
              "#f0f921"
             ]
            ],
            "type": "heatmap"
           }
          ],
          "heatmapgl": [
           {
            "colorbar": {
             "outlinewidth": 0,
             "ticks": ""
            },
            "colorscale": [
             [
              0,
              "#0d0887"
             ],
             [
              0.1111111111111111,
              "#46039f"
             ],
             [
              0.2222222222222222,
              "#7201a8"
             ],
             [
              0.3333333333333333,
              "#9c179e"
             ],
             [
              0.4444444444444444,
              "#bd3786"
             ],
             [
              0.5555555555555556,
              "#d8576b"
             ],
             [
              0.6666666666666666,
              "#ed7953"
             ],
             [
              0.7777777777777778,
              "#fb9f3a"
             ],
             [
              0.8888888888888888,
              "#fdca26"
             ],
             [
              1,
              "#f0f921"
             ]
            ],
            "type": "heatmapgl"
           }
          ],
          "histogram": [
           {
            "marker": {
             "colorbar": {
              "outlinewidth": 0,
              "ticks": ""
             }
            },
            "type": "histogram"
           }
          ],
          "histogram2d": [
           {
            "colorbar": {
             "outlinewidth": 0,
             "ticks": ""
            },
            "colorscale": [
             [
              0,
              "#0d0887"
             ],
             [
              0.1111111111111111,
              "#46039f"
             ],
             [
              0.2222222222222222,
              "#7201a8"
             ],
             [
              0.3333333333333333,
              "#9c179e"
             ],
             [
              0.4444444444444444,
              "#bd3786"
             ],
             [
              0.5555555555555556,
              "#d8576b"
             ],
             [
              0.6666666666666666,
              "#ed7953"
             ],
             [
              0.7777777777777778,
              "#fb9f3a"
             ],
             [
              0.8888888888888888,
              "#fdca26"
             ],
             [
              1,
              "#f0f921"
             ]
            ],
            "type": "histogram2d"
           }
          ],
          "histogram2dcontour": [
           {
            "colorbar": {
             "outlinewidth": 0,
             "ticks": ""
            },
            "colorscale": [
             [
              0,
              "#0d0887"
             ],
             [
              0.1111111111111111,
              "#46039f"
             ],
             [
              0.2222222222222222,
              "#7201a8"
             ],
             [
              0.3333333333333333,
              "#9c179e"
             ],
             [
              0.4444444444444444,
              "#bd3786"
             ],
             [
              0.5555555555555556,
              "#d8576b"
             ],
             [
              0.6666666666666666,
              "#ed7953"
             ],
             [
              0.7777777777777778,
              "#fb9f3a"
             ],
             [
              0.8888888888888888,
              "#fdca26"
             ],
             [
              1,
              "#f0f921"
             ]
            ],
            "type": "histogram2dcontour"
           }
          ],
          "mesh3d": [
           {
            "colorbar": {
             "outlinewidth": 0,
             "ticks": ""
            },
            "type": "mesh3d"
           }
          ],
          "parcoords": [
           {
            "line": {
             "colorbar": {
              "outlinewidth": 0,
              "ticks": ""
             }
            },
            "type": "parcoords"
           }
          ],
          "scatter": [
           {
            "marker": {
             "colorbar": {
              "outlinewidth": 0,
              "ticks": ""
             }
            },
            "type": "scatter"
           }
          ],
          "scatter3d": [
           {
            "line": {
             "colorbar": {
              "outlinewidth": 0,
              "ticks": ""
             }
            },
            "marker": {
             "colorbar": {
              "outlinewidth": 0,
              "ticks": ""
             }
            },
            "type": "scatter3d"
           }
          ],
          "scattercarpet": [
           {
            "marker": {
             "colorbar": {
              "outlinewidth": 0,
              "ticks": ""
             }
            },
            "type": "scattercarpet"
           }
          ],
          "scattergeo": [
           {
            "marker": {
             "colorbar": {
              "outlinewidth": 0,
              "ticks": ""
             }
            },
            "type": "scattergeo"
           }
          ],
          "scattergl": [
           {
            "marker": {
             "colorbar": {
              "outlinewidth": 0,
              "ticks": ""
             }
            },
            "type": "scattergl"
           }
          ],
          "scattermapbox": [
           {
            "marker": {
             "colorbar": {
              "outlinewidth": 0,
              "ticks": ""
             }
            },
            "type": "scattermapbox"
           }
          ],
          "scatterpolar": [
           {
            "marker": {
             "colorbar": {
              "outlinewidth": 0,
              "ticks": ""
             }
            },
            "type": "scatterpolar"
           }
          ],
          "scatterpolargl": [
           {
            "marker": {
             "colorbar": {
              "outlinewidth": 0,
              "ticks": ""
             }
            },
            "type": "scatterpolargl"
           }
          ],
          "scatterternary": [
           {
            "marker": {
             "colorbar": {
              "outlinewidth": 0,
              "ticks": ""
             }
            },
            "type": "scatterternary"
           }
          ],
          "surface": [
           {
            "colorbar": {
             "outlinewidth": 0,
             "ticks": ""
            },
            "colorscale": [
             [
              0,
              "#0d0887"
             ],
             [
              0.1111111111111111,
              "#46039f"
             ],
             [
              0.2222222222222222,
              "#7201a8"
             ],
             [
              0.3333333333333333,
              "#9c179e"
             ],
             [
              0.4444444444444444,
              "#bd3786"
             ],
             [
              0.5555555555555556,
              "#d8576b"
             ],
             [
              0.6666666666666666,
              "#ed7953"
             ],
             [
              0.7777777777777778,
              "#fb9f3a"
             ],
             [
              0.8888888888888888,
              "#fdca26"
             ],
             [
              1,
              "#f0f921"
             ]
            ],
            "type": "surface"
           }
          ],
          "table": [
           {
            "cells": {
             "fill": {
              "color": "#EBF0F8"
             },
             "line": {
              "color": "white"
             }
            },
            "header": {
             "fill": {
              "color": "#C8D4E3"
             },
             "line": {
              "color": "white"
             }
            },
            "type": "table"
           }
          ]
         },
         "layout": {
          "annotationdefaults": {
           "arrowcolor": "#2a3f5f",
           "arrowhead": 0,
           "arrowwidth": 1
          },
          "colorscale": {
           "diverging": [
            [
             0,
             "#8e0152"
            ],
            [
             0.1,
             "#c51b7d"
            ],
            [
             0.2,
             "#de77ae"
            ],
            [
             0.3,
             "#f1b6da"
            ],
            [
             0.4,
             "#fde0ef"
            ],
            [
             0.5,
             "#f7f7f7"
            ],
            [
             0.6,
             "#e6f5d0"
            ],
            [
             0.7,
             "#b8e186"
            ],
            [
             0.8,
             "#7fbc41"
            ],
            [
             0.9,
             "#4d9221"
            ],
            [
             1,
             "#276419"
            ]
           ],
           "sequential": [
            [
             0,
             "#0d0887"
            ],
            [
             0.1111111111111111,
             "#46039f"
            ],
            [
             0.2222222222222222,
             "#7201a8"
            ],
            [
             0.3333333333333333,
             "#9c179e"
            ],
            [
             0.4444444444444444,
             "#bd3786"
            ],
            [
             0.5555555555555556,
             "#d8576b"
            ],
            [
             0.6666666666666666,
             "#ed7953"
            ],
            [
             0.7777777777777778,
             "#fb9f3a"
            ],
            [
             0.8888888888888888,
             "#fdca26"
            ],
            [
             1,
             "#f0f921"
            ]
           ],
           "sequentialminus": [
            [
             0,
             "#0d0887"
            ],
            [
             0.1111111111111111,
             "#46039f"
            ],
            [
             0.2222222222222222,
             "#7201a8"
            ],
            [
             0.3333333333333333,
             "#9c179e"
            ],
            [
             0.4444444444444444,
             "#bd3786"
            ],
            [
             0.5555555555555556,
             "#d8576b"
            ],
            [
             0.6666666666666666,
             "#ed7953"
            ],
            [
             0.7777777777777778,
             "#fb9f3a"
            ],
            [
             0.8888888888888888,
             "#fdca26"
            ],
            [
             1,
             "#f0f921"
            ]
           ]
          },
          "colorway": [
           "#636efa",
           "#EF553B",
           "#00cc96",
           "#ab63fa",
           "#FFA15A",
           "#19d3f3",
           "#FF6692",
           "#B6E880",
           "#FF97FF",
           "#FECB52"
          ],
          "font": {
           "color": "#2a3f5f"
          },
          "geo": {
           "bgcolor": "white",
           "lakecolor": "white",
           "landcolor": "#E5ECF6",
           "showlakes": true,
           "showland": true,
           "subunitcolor": "white"
          },
          "hoverlabel": {
           "align": "left"
          },
          "hovermode": "closest",
          "mapbox": {
           "style": "light"
          },
          "paper_bgcolor": "white",
          "plot_bgcolor": "#E5ECF6",
          "polar": {
           "angularaxis": {
            "gridcolor": "white",
            "linecolor": "white",
            "ticks": ""
           },
           "bgcolor": "#E5ECF6",
           "radialaxis": {
            "gridcolor": "white",
            "linecolor": "white",
            "ticks": ""
           }
          },
          "scene": {
           "xaxis": {
            "backgroundcolor": "#E5ECF6",
            "gridcolor": "white",
            "gridwidth": 2,
            "linecolor": "white",
            "showbackground": true,
            "ticks": "",
            "zerolinecolor": "white"
           },
           "yaxis": {
            "backgroundcolor": "#E5ECF6",
            "gridcolor": "white",
            "gridwidth": 2,
            "linecolor": "white",
            "showbackground": true,
            "ticks": "",
            "zerolinecolor": "white"
           },
           "zaxis": {
            "backgroundcolor": "#E5ECF6",
            "gridcolor": "white",
            "gridwidth": 2,
            "linecolor": "white",
            "showbackground": true,
            "ticks": "",
            "zerolinecolor": "white"
           }
          },
          "shapedefaults": {
           "line": {
            "color": "#2a3f5f"
           }
          },
          "ternary": {
           "aaxis": {
            "gridcolor": "white",
            "linecolor": "white",
            "ticks": ""
           },
           "baxis": {
            "gridcolor": "white",
            "linecolor": "white",
            "ticks": ""
           },
           "bgcolor": "#E5ECF6",
           "caxis": {
            "gridcolor": "white",
            "linecolor": "white",
            "ticks": ""
           }
          },
          "title": {
           "x": 0.05
          },
          "xaxis": {
           "automargin": true,
           "gridcolor": "white",
           "linecolor": "white",
           "ticks": "",
           "zerolinecolor": "white",
           "zerolinewidth": 2
          },
          "yaxis": {
           "automargin": true,
           "gridcolor": "white",
           "linecolor": "white",
           "ticks": "",
           "zerolinecolor": "white",
           "zerolinewidth": 2
          }
         }
        },
        "xaxis": {
         "anchor": "y",
         "autorange": true,
         "domain": [
          0,
          0.98
         ],
         "range": [
          1126.7665339311075,
          26772.233466068894
         ],
         "title": {
          "text": "qstart"
         },
         "type": "linear"
        },
        "yaxis": {
         "anchor": "x",
         "autorange": true,
         "domain": [
          0,
          1
         ],
         "range": [
          -1.1111111111111112,
          21.11111111111111
         ],
         "title": {
          "text": "query"
         },
         "type": "category"
        }
       }
      },
      "image/png": "[encoded data removed]",
      "text/html": [
       "<div>\n",
       "        \n",
       "        \n",
       "            <div id=\"0651a631-4104-41cb-a6e5-8815a3f85773\" class=\"plotly-graph-div\" style=\"height:600px; width:100%;\"></div>\n",
       "            <script type=\"text/javascript\">\n",
       "                require([\"plotly\"], function(Plotly) {\n",
       "                    window.PLOTLYENV=window.PLOTLYENV || {};\n",
       "                    \n",
       "                if (document.getElementById(\"0651a631-4104-41cb-a6e5-8815a3f85773\")) {\n",
       "                    Plotly.newPlot(\n",
       "                        '0651a631-4104-41cb-a6e5-8815a3f85773',\n",
       "                        [{\"alignmentgroup\": \"True\", \"boxpoints\": \"all\", \"fillcolor\": \"rgba(255,255,255,0)\", \"hoverlabel\": {\"namelength\": 0}, \"hoveron\": \"points\", \"hovertemplate\": \"motif=(CGG)n<br>qstart=%{x}<br>query=%{y}\", \"legendgroup\": \"motif=(CGG)n\", \"line\": {\"color\": \"rgba(255,255,255,0)\"}, \"marker\": {\"color\": \"#636efa\"}, \"name\": \"motif=(CGG)n\", \"offsetgroup\": \"motif=(CGG)n\", \"orientation\": \"v\", \"pointpos\": 0, \"showlegend\": true, \"type\": \"box\", \"x\": [1250, 21475, 1250, 21475, 1250, 21475, 1250, 21475, 1250, 21475, 1250, 21475, 1250, 21475, 1250, 21475, 1250, 21475, 1250, 21475, 1250, 21475, 1250, 21475, 1250, 21475, 1250, 21475, 1250, 21475, 1250, 21475, 1250, 21475, 1250, 21475, 1250, 21475, 1250, 21475, 1250, 21475], \"x0\": \" \", \"xaxis\": \"x\", \"y\": [\"BADARI_DHAN:chr04:19370000:19400000\", \"BADARI_DHAN:chr04:19370000:19400000\", \"C8005:chr04:19370000:19400000\", \"C8005:chr04:19370000:19400000\", \"DEE_JIAO_HUA_LUO:chr04:19370000:19400000\", \"DEE_JIAO_HUA_LUO:chr04:19370000:19400000\", \"HAYAYUKI:chr04:19370000:19400000\", \"HAYAYUKI:chr04:19370000:19400000\", \"IRGSP1.0:chr04:19370000:19400000\", \"IRGSP1.0:chr04:19370000:19400000\", \"JAGUARY:chr04:19370000:19400000\", \"JAGUARY:chr04:19370000:19400000\", \"KALUHEENATI:chr04:19370000:19400000\", \"KALUHEENATI:chr04:19370000:19400000\", \"KASALATH:chr04:19370000:19400000\", \"KASALATH:chr04:19370000:19400000\", \"KEIBOBA:chr04:19370000:19400000\", \"KEIBOBA:chr04:19370000:19400000\", \"MOUKOTOU:chr04:19370000:19400000\", \"MOUKOTOU:chr04:19370000:19400000\", \"NERICA_1:chr04:19370000:19400000\", \"NERICA_1:chr04:19370000:19400000\", \"NORTAI:chr04:19370000:19400000\", \"NORTAI:chr04:19370000:19400000\", \"RATUL:chr04:19370000:19400000\", \"RATUL:chr04:19370000:19400000\", \"REXMONT:chr04:19370000:19400000\", \"REXMONT:chr04:19370000:19400000\", \"SESIA:chr04:19370000:19400000\", \"SESIA:chr04:19370000:19400000\", \"SHONI:chr04:19370000:19400000\", \"SHONI:chr04:19370000:19400000\", \"SURJAMUKHI:chr04:19370000:19400000\", \"SURJAMUKHI:chr04:19370000:19400000\", \"TAKANARI:chr04:19370000:19400000\", \"TAKANARI:chr04:19370000:19400000\", \"TUPA_121-3:chr04:19370000:19400000\", \"TUPA_121-3:chr04:19370000:19400000\", \"TUPA_729:chr04:19370000:19400000\", \"TUPA_729:chr04:19370000:19400000\", \"URASAN:chr04:19370000:19400000\", \"URASAN:chr04:19370000:19400000\"], \"y0\": \" \", \"yaxis\": \"y\"}, {\"alignmentgroup\": \"True\", \"boxpoints\": \"all\", \"fillcolor\": \"rgba(255,255,255,0)\", \"hoverlabel\": {\"namelength\": 0}, \"hoveron\": \"points\", \"hovertemplate\": \"motif=(CGA)n<br>qstart=%{x}<br>query=%{y}\", \"legendgroup\": \"motif=(CGA)n\", \"line\": {\"color\": \"rgba(255,255,255,0)\"}, \"marker\": {\"color\": \"#EF553B\"}, \"name\": \"motif=(CGA)n\", \"offsetgroup\": \"motif=(CGA)n\", \"orientation\": \"v\", \"pointpos\": 0, \"showlegend\": true, \"type\": \"box\", \"x\": [1550, 1550, 1550, 1550, 1550, 1550, 1550, 1550, 1550, 1550, 1550, 1550, 1550, 1550, 1550, 1550, 1550, 1550, 1550, 1550, 1550], \"x0\": \" \", \"xaxis\": \"x\", \"y\": [\"BADARI_DHAN:chr04:19370000:19400000\", \"C8005:chr04:19370000:19400000\", \"DEE_JIAO_HUA_LUO:chr04:19370000:19400000\", \"HAYAYUKI:chr04:19370000:19400000\", \"IRGSP1.0:chr04:19370000:19400000\", \"JAGUARY:chr04:19370000:19400000\", \"KALUHEENATI:chr04:19370000:19400000\", \"KASALATH:chr04:19370000:19400000\", \"KEIBOBA:chr04:19370000:19400000\", \"MOUKOTOU:chr04:19370000:19400000\", \"NERICA_1:chr04:19370000:19400000\", \"NORTAI:chr04:19370000:19400000\", \"RATUL:chr04:19370000:19400000\", \"REXMONT:chr04:19370000:19400000\", \"SESIA:chr04:19370000:19400000\", \"SHONI:chr04:19370000:19400000\", \"SURJAMUKHI:chr04:19370000:19400000\", \"TAKANARI:chr04:19370000:19400000\", \"TUPA_121-3:chr04:19370000:19400000\", \"TUPA_729:chr04:19370000:19400000\", \"URASAN:chr04:19370000:19400000\"], \"y0\": \" \", \"yaxis\": \"y\"}, {\"alignmentgroup\": \"True\", \"boxpoints\": \"all\", \"fillcolor\": \"rgba(255,255,255,0)\", \"hoverlabel\": {\"namelength\": 0}, \"hoveron\": \"points\", \"hovertemplate\": \"motif=(TC)n<br>qstart=%{x}<br>query=%{y}\", \"legendgroup\": \"motif=(TC)n\", \"line\": {\"color\": \"rgba(255,255,255,0)\"}, \"marker\": {\"color\": \"#00cc96\"}, \"name\": \"motif=(TC)n\", \"offsetgroup\": \"motif=(TC)n\", \"orientation\": \"v\", \"pointpos\": 0, \"showlegend\": true, \"type\": \"box\", \"x\": [1980, 8590, 10236, 1980, 8590, 10236, 1980, 8590, 10236, 1980, 8590, 10236, 1980, 8590, 10236, 1980, 8590, 10236, 1980, 8590, 10236, 1980, 8590, 10236, 1980, 8590, 10236, 1980, 8590, 10236, 1980, 8590, 10236, 1980, 8590, 10236, 1980, 8590, 10236, 1980, 8590, 10236, 1980, 8590, 10236, 1980, 8590, 10236, 1980, 8590, 10236, 1980, 8590, 10236, 1980, 8590, 10236, 1980, 8590, 10236, 1980, 8590, 10236], \"x0\": \" \", \"xaxis\": \"x\", \"y\": [\"BADARI_DHAN:chr04:19370000:19400000\", \"BADARI_DHAN:chr04:19370000:19400000\", \"BADARI_DHAN:chr04:19370000:19400000\", \"C8005:chr04:19370000:19400000\", \"C8005:chr04:19370000:19400000\", \"C8005:chr04:19370000:19400000\", \"DEE_JIAO_HUA_LUO:chr04:19370000:19400000\", \"DEE_JIAO_HUA_LUO:chr04:19370000:19400000\", \"DEE_JIAO_HUA_LUO:chr04:19370000:19400000\", \"HAYAYUKI:chr04:19370000:19400000\", \"HAYAYUKI:chr04:19370000:19400000\", \"HAYAYUKI:chr04:19370000:19400000\", \"IRGSP1.0:chr04:19370000:19400000\", \"IRGSP1.0:chr04:19370000:19400000\", \"IRGSP1.0:chr04:19370000:19400000\", \"JAGUARY:chr04:19370000:19400000\", \"JAGUARY:chr04:19370000:19400000\", \"JAGUARY:chr04:19370000:19400000\", \"KALUHEENATI:chr04:19370000:19400000\", \"KALUHEENATI:chr04:19370000:19400000\", \"KALUHEENATI:chr04:19370000:19400000\", \"KASALATH:chr04:19370000:19400000\", \"KASALATH:chr04:19370000:19400000\", \"KASALATH:chr04:19370000:19400000\", \"KEIBOBA:chr04:19370000:19400000\", \"KEIBOBA:chr04:19370000:19400000\", \"KEIBOBA:chr04:19370000:19400000\", \"MOUKOTOU:chr04:19370000:19400000\", \"MOUKOTOU:chr04:19370000:19400000\", \"MOUKOTOU:chr04:19370000:19400000\", \"NERICA_1:chr04:19370000:19400000\", \"NERICA_1:chr04:19370000:19400000\", \"NERICA_1:chr04:19370000:19400000\", \"NORTAI:chr04:19370000:19400000\", \"NORTAI:chr04:19370000:19400000\", \"NORTAI:chr04:19370000:19400000\", \"RATUL:chr04:19370000:19400000\", \"RATUL:chr04:19370000:19400000\", \"RATUL:chr04:19370000:19400000\", \"REXMONT:chr04:19370000:19400000\", \"REXMONT:chr04:19370000:19400000\", \"REXMONT:chr04:19370000:19400000\", \"SESIA:chr04:19370000:19400000\", \"SESIA:chr04:19370000:19400000\", \"SESIA:chr04:19370000:19400000\", \"SHONI:chr04:19370000:19400000\", \"SHONI:chr04:19370000:19400000\", \"SHONI:chr04:19370000:19400000\", \"SURJAMUKHI:chr04:19370000:19400000\", \"SURJAMUKHI:chr04:19370000:19400000\", \"SURJAMUKHI:chr04:19370000:19400000\", \"TAKANARI:chr04:19370000:19400000\", \"TAKANARI:chr04:19370000:19400000\", \"TAKANARI:chr04:19370000:19400000\", \"TUPA_121-3:chr04:19370000:19400000\", \"TUPA_121-3:chr04:19370000:19400000\", \"TUPA_121-3:chr04:19370000:19400000\", \"TUPA_729:chr04:19370000:19400000\", \"TUPA_729:chr04:19370000:19400000\", \"TUPA_729:chr04:19370000:19400000\", \"URASAN:chr04:19370000:19400000\", \"URASAN:chr04:19370000:19400000\", \"URASAN:chr04:19370000:19400000\"], \"y0\": \" \", \"yaxis\": \"y\"}, {\"alignmentgroup\": \"True\", \"boxpoints\": \"all\", \"fillcolor\": \"rgba(255,255,255,0)\", \"hoverlabel\": {\"namelength\": 0}, \"hoveron\": \"points\", \"hovertemplate\": \"motif=GA-rich<br>qstart=%{x}<br>query=%{y}\", \"legendgroup\": \"motif=GA-rich\", \"line\": {\"color\": \"rgba(255,255,255,0)\"}, \"marker\": {\"color\": \"#ab63fa\"}, \"name\": \"motif=GA-rich\", \"offsetgroup\": \"motif=GA-rich\", \"orientation\": \"v\", \"pointpos\": 0, \"showlegend\": true, \"type\": \"box\", \"x\": [2719, 2719, 2719, 2719, 2719, 2719, 2719, 2719, 2719, 2719, 2719, 2719, 2719, 2719, 2719, 2719, 2719, 2719], \"x0\": \" \", \"xaxis\": \"x\", \"y\": [\"BADARI_DHAN:chr04:19370000:19400000\", \"C8005:chr04:19370000:19400000\", \"HAYAYUKI:chr04:19370000:19400000\", \"IRGSP1.0:chr04:19370000:19400000\", \"JAGUARY:chr04:19370000:19400000\", \"KALUHEENATI:chr04:19370000:19400000\", \"KASALATH:chr04:19370000:19400000\", \"MOUKOTOU:chr04:19370000:19400000\", \"NERICA_1:chr04:19370000:19400000\", \"NORTAI:chr04:19370000:19400000\", \"RATUL:chr04:19370000:19400000\", \"REXMONT:chr04:19370000:19400000\", \"SESIA:chr04:19370000:19400000\", \"SHONI:chr04:19370000:19400000\", \"SURJAMUKHI:chr04:19370000:19400000\", \"TUPA_121-3:chr04:19370000:19400000\", \"TUPA_729:chr04:19370000:19400000\", \"URASAN:chr04:19370000:19400000\"], \"y0\": \" \", \"yaxis\": \"y\"}, {\"alignmentgroup\": \"True\", \"boxpoints\": \"all\", \"fillcolor\": \"rgba(255,255,255,0)\", \"hoverlabel\": {\"namelength\": 0}, \"hoveron\": \"points\", \"hovertemplate\": \"motif=(GCC)n<br>qstart=%{x}<br>query=%{y}\", \"legendgroup\": \"motif=(GCC)n\", \"line\": {\"color\": \"rgba(255,255,255,0)\"}, \"marker\": {\"color\": \"#FFA15A\"}, \"name\": \"motif=(GCC)n\", \"offsetgroup\": \"motif=(GCC)n\", \"orientation\": \"v\", \"pointpos\": 0, \"showlegend\": true, \"type\": \"box\", \"x\": [3705, 3705, 3705, 3705, 3705, 3705, 3705, 3705, 3705, 3705, 3705, 3705, 3705, 3705, 3705, 3705, 3705, 3705, 3705, 3705, 3705], \"x0\": \" \", \"xaxis\": \"x\", \"y\": [\"BADARI_DHAN:chr04:19370000:19400000\", \"C8005:chr04:19370000:19400000\", \"DEE_JIAO_HUA_LUO:chr04:19370000:19400000\", \"HAYAYUKI:chr04:19370000:19400000\", \"IRGSP1.0:chr04:19370000:19400000\", \"JAGUARY:chr04:19370000:19400000\", \"KALUHEENATI:chr04:19370000:19400000\", \"KASALATH:chr04:19370000:19400000\", \"KEIBOBA:chr04:19370000:19400000\", \"MOUKOTOU:chr04:19370000:19400000\", \"NERICA_1:chr04:19370000:19400000\", \"NORTAI:chr04:19370000:19400000\", \"RATUL:chr04:19370000:19400000\", \"REXMONT:chr04:19370000:19400000\", \"SESIA:chr04:19370000:19400000\", \"SHONI:chr04:19370000:19400000\", \"SURJAMUKHI:chr04:19370000:19400000\", \"TAKANARI:chr04:19370000:19400000\", \"TUPA_121-3:chr04:19370000:19400000\", \"TUPA_729:chr04:19370000:19400000\", \"URASAN:chr04:19370000:19400000\"], \"y0\": \" \", \"yaxis\": \"y\"}, {\"alignmentgroup\": \"True\", \"boxpoints\": \"all\", \"fillcolor\": \"rgba(255,255,255,0)\", \"hoverlabel\": {\"namelength\": 0}, \"hoveron\": \"points\", \"hovertemplate\": \"motif=(GCG)n<br>qstart=%{x}<br>query=%{y}\", \"legendgroup\": \"motif=(GCG)n\", \"line\": {\"color\": \"rgba(255,255,255,0)\"}, \"marker\": {\"color\": \"#19d3f3\"}, \"name\": \"motif=(GCG)n\", \"offsetgroup\": \"motif=(GCG)n\", \"orientation\": \"v\", \"pointpos\": 0, \"showlegend\": true, \"type\": \"box\", \"x\": [3853, 3853, 3853, 3853, 3853, 3853, 3853, 3853, 3853, 3853, 3853, 3853, 3853, 3853, 3853, 3853, 3853, 3853, 3853, 3853, 3853], \"x0\": \" \", \"xaxis\": \"x\", \"y\": [\"BADARI_DHAN:chr04:19370000:19400000\", \"C8005:chr04:19370000:19400000\", \"DEE_JIAO_HUA_LUO:chr04:19370000:19400000\", \"HAYAYUKI:chr04:19370000:19400000\", \"IRGSP1.0:chr04:19370000:19400000\", \"JAGUARY:chr04:19370000:19400000\", \"KALUHEENATI:chr04:19370000:19400000\", \"KASALATH:chr04:19370000:19400000\", \"KEIBOBA:chr04:19370000:19400000\", \"MOUKOTOU:chr04:19370000:19400000\", \"NERICA_1:chr04:19370000:19400000\", \"NORTAI:chr04:19370000:19400000\", \"RATUL:chr04:19370000:19400000\", \"REXMONT:chr04:19370000:19400000\", \"SESIA:chr04:19370000:19400000\", \"SHONI:chr04:19370000:19400000\", \"SURJAMUKHI:chr04:19370000:19400000\", \"TAKANARI:chr04:19370000:19400000\", \"TUPA_121-3:chr04:19370000:19400000\", \"TUPA_729:chr04:19370000:19400000\", \"URASAN:chr04:19370000:19400000\"], \"y0\": \" \", \"yaxis\": \"y\"}, {\"alignmentgroup\": \"True\", \"boxpoints\": \"all\", \"fillcolor\": \"rgba(255,255,255,0)\", \"hoverlabel\": {\"namelength\": 0}, \"hoveron\": \"points\", \"hovertemplate\": \"motif=(AATT)n<br>qstart=%{x}<br>query=%{y}\", \"legendgroup\": \"motif=(AATT)n\", \"line\": {\"color\": \"rgba(255,255,255,0)\"}, \"marker\": {\"color\": \"#FF6692\"}, \"name\": \"motif=(AATT)n\", \"offsetgroup\": \"motif=(AATT)n\", \"orientation\": \"v\", \"pointpos\": 0, \"showlegend\": true, \"type\": \"box\", \"x\": [4072, 4072, 4072, 4072, 4072, 4072, 4072, 4072, 4072, 4072, 4072, 4072, 4072, 4072, 4072, 4072, 4072, 4072, 4072, 4072, 4072], \"x0\": \" \", \"xaxis\": \"x\", \"y\": [\"BADARI_DHAN:chr04:19370000:19400000\", \"C8005:chr04:19370000:19400000\", \"DEE_JIAO_HUA_LUO:chr04:19370000:19400000\", \"HAYAYUKI:chr04:19370000:19400000\", \"IRGSP1.0:chr04:19370000:19400000\", \"JAGUARY:chr04:19370000:19400000\", \"KALUHEENATI:chr04:19370000:19400000\", \"KASALATH:chr04:19370000:19400000\", \"KEIBOBA:chr04:19370000:19400000\", \"MOUKOTOU:chr04:19370000:19400000\", \"NERICA_1:chr04:19370000:19400000\", \"NORTAI:chr04:19370000:19400000\", \"RATUL:chr04:19370000:19400000\", \"REXMONT:chr04:19370000:19400000\", \"SESIA:chr04:19370000:19400000\", \"SHONI:chr04:19370000:19400000\", \"SURJAMUKHI:chr04:19370000:19400000\", \"TAKANARI:chr04:19370000:19400000\", \"TUPA_121-3:chr04:19370000:19400000\", \"TUPA_729:chr04:19370000:19400000\", \"URASAN:chr04:19370000:19400000\"], \"y0\": \" \", \"yaxis\": \"y\"}, {\"alignmentgroup\": \"True\", \"boxpoints\": \"all\", \"fillcolor\": \"rgba(255,255,255,0)\", \"hoverlabel\": {\"namelength\": 0}, \"hoveron\": \"points\", \"hovertemplate\": \"motif=(GAC)n<br>qstart=%{x}<br>query=%{y}\", \"legendgroup\": \"motif=(GAC)n\", \"line\": {\"color\": \"rgba(255,255,255,0)\"}, \"marker\": {\"color\": \"#B6E880\"}, \"name\": \"motif=(GAC)n\", \"offsetgroup\": \"motif=(GAC)n\", \"orientation\": \"v\", \"pointpos\": 0, \"showlegend\": true, \"type\": \"box\", \"x\": [6476, 6476, 6476, 6722, 6476, 6476, 6476, 6476, 6476, 6476, 6722, 6476, 6476, 6476, 6476, 6476, 6476, 6476, 6476, 6476, 6722, 6476, 6476, 6476], \"x0\": \" \", \"xaxis\": \"x\", \"y\": [\"BADARI_DHAN:chr04:19370000:19400000\", \"C8005:chr04:19370000:19400000\", \"DEE_JIAO_HUA_LUO:chr04:19370000:19400000\", \"DEE_JIAO_HUA_LUO:chr04:19370000:19400000\", \"HAYAYUKI:chr04:19370000:19400000\", \"IRGSP1.0:chr04:19370000:19400000\", \"JAGUARY:chr04:19370000:19400000\", \"KALUHEENATI:chr04:19370000:19400000\", \"KASALATH:chr04:19370000:19400000\", \"KEIBOBA:chr04:19370000:19400000\", \"KEIBOBA:chr04:19370000:19400000\", \"MOUKOTOU:chr04:19370000:19400000\", \"NERICA_1:chr04:19370000:19400000\", \"NORTAI:chr04:19370000:19400000\", \"RATUL:chr04:19370000:19400000\", \"REXMONT:chr04:19370000:19400000\", \"SESIA:chr04:19370000:19400000\", \"SHONI:chr04:19370000:19400000\", \"SURJAMUKHI:chr04:19370000:19400000\", \"TAKANARI:chr04:19370000:19400000\", \"TAKANARI:chr04:19370000:19400000\", \"TUPA_121-3:chr04:19370000:19400000\", \"TUPA_729:chr04:19370000:19400000\", \"URASAN:chr04:19370000:19400000\"], \"y0\": \" \", \"yaxis\": \"y\"}, {\"alignmentgroup\": \"True\", \"boxpoints\": \"all\", \"fillcolor\": \"rgba(255,255,255,0)\", \"hoverlabel\": {\"namelength\": 0}, \"hoveron\": \"points\", \"hovertemplate\": \"motif=(CGC)n<br>qstart=%{x}<br>query=%{y}\", \"legendgroup\": \"motif=(CGC)n\", \"line\": {\"color\": \"rgba(255,255,255,0)\"}, \"marker\": {\"color\": \"#FF97FF\"}, \"name\": \"motif=(CGC)n\", \"offsetgroup\": \"motif=(CGC)n\", \"orientation\": \"v\", \"pointpos\": 0, \"showlegend\": true, \"type\": \"box\", \"x\": [6611, 6611, 6611, 6611, 6611, 6611, 6611, 6611, 6611, 6611, 6611, 6611, 6611, 6611, 6611, 6611, 6611, 6611, 6611, 6611, 6611], \"x0\": \" \", \"xaxis\": \"x\", \"y\": [\"BADARI_DHAN:chr04:19370000:19400000\", \"C8005:chr04:19370000:19400000\", \"DEE_JIAO_HUA_LUO:chr04:19370000:19400000\", \"HAYAYUKI:chr04:19370000:19400000\", \"IRGSP1.0:chr04:19370000:19400000\", \"JAGUARY:chr04:19370000:19400000\", \"KALUHEENATI:chr04:19370000:19400000\", \"KASALATH:chr04:19370000:19400000\", \"KEIBOBA:chr04:19370000:19400000\", \"MOUKOTOU:chr04:19370000:19400000\", \"NERICA_1:chr04:19370000:19400000\", \"NORTAI:chr04:19370000:19400000\", \"RATUL:chr04:19370000:19400000\", \"REXMONT:chr04:19370000:19400000\", \"SESIA:chr04:19370000:19400000\", \"SHONI:chr04:19370000:19400000\", \"SURJAMUKHI:chr04:19370000:19400000\", \"TAKANARI:chr04:19370000:19400000\", \"TUPA_121-3:chr04:19370000:19400000\", \"TUPA_729:chr04:19370000:19400000\", \"URASAN:chr04:19370000:19400000\"], \"y0\": \" \", \"yaxis\": \"y\"}, {\"alignmentgroup\": \"True\", \"boxpoints\": \"all\", \"fillcolor\": \"rgba(255,255,255,0)\", \"hoverlabel\": {\"namelength\": 0}, \"hoveron\": \"points\", \"hovertemplate\": \"motif=(CCG)n<br>qstart=%{x}<br>query=%{y}\", \"legendgroup\": \"motif=(CCG)n\", \"line\": {\"color\": \"rgba(255,255,255,0)\"}, \"marker\": {\"color\": \"#FECB52\"}, \"name\": \"motif=(CCG)n\", \"offsetgroup\": \"motif=(CCG)n\", \"orientation\": \"v\", \"pointpos\": 0, \"showlegend\": true, \"type\": \"box\", \"x\": [8442, 8442, 8442, 8442, 8442, 8442, 8442, 8442, 8442, 8442, 8442, 8442, 8442, 8442, 8442, 8442, 8442, 8442, 8442, 8442, 8442], \"x0\": \" \", \"xaxis\": \"x\", \"y\": [\"BADARI_DHAN:chr04:19370000:19400000\", \"C8005:chr04:19370000:19400000\", \"DEE_JIAO_HUA_LUO:chr04:19370000:19400000\", \"HAYAYUKI:chr04:19370000:19400000\", \"IRGSP1.0:chr04:19370000:19400000\", \"JAGUARY:chr04:19370000:19400000\", \"KALUHEENATI:chr04:19370000:19400000\", \"KASALATH:chr04:19370000:19400000\", \"KEIBOBA:chr04:19370000:19400000\", \"MOUKOTOU:chr04:19370000:19400000\", \"NERICA_1:chr04:19370000:19400000\", \"NORTAI:chr04:19370000:19400000\", \"RATUL:chr04:19370000:19400000\", \"REXMONT:chr04:19370000:19400000\", \"SESIA:chr04:19370000:19400000\", \"SHONI:chr04:19370000:19400000\", \"SURJAMUKHI:chr04:19370000:19400000\", \"TAKANARI:chr04:19370000:19400000\", \"TUPA_121-3:chr04:19370000:19400000\", \"TUPA_729:chr04:19370000:19400000\", \"URASAN:chr04:19370000:19400000\"], \"y0\": \" \", \"yaxis\": \"y\"}, {\"alignmentgroup\": \"True\", \"boxpoints\": \"all\", \"fillcolor\": \"rgba(255,255,255,0)\", \"hoverlabel\": {\"namelength\": 0}, \"hoveron\": \"points\", \"hovertemplate\": \"motif=(ATC)n<br>qstart=%{x}<br>query=%{y}\", \"legendgroup\": \"motif=(ATC)n\", \"line\": {\"color\": \"rgba(255,255,255,0)\"}, \"marker\": {\"color\": \"#636efa\"}, \"name\": \"motif=(ATC)n\", \"offsetgroup\": \"motif=(ATC)n\", \"orientation\": \"v\", \"pointpos\": 0, \"showlegend\": true, \"type\": \"box\", \"x\": [19861, 19861, 19861, 19861, 19861, 19861, 19861, 19861, 19861, 19861, 19861, 19861, 19861, 19861, 19861, 19861, 19861, 19861, 19861, 19861, 19861], \"x0\": \" \", \"xaxis\": \"x\", \"y\": [\"BADARI_DHAN:chr04:19370000:19400000\", \"C8005:chr04:19370000:19400000\", \"DEE_JIAO_HUA_LUO:chr04:19370000:19400000\", \"HAYAYUKI:chr04:19370000:19400000\", \"IRGSP1.0:chr04:19370000:19400000\", \"JAGUARY:chr04:19370000:19400000\", \"KALUHEENATI:chr04:19370000:19400000\", \"KASALATH:chr04:19370000:19400000\", \"KEIBOBA:chr04:19370000:19400000\", \"MOUKOTOU:chr04:19370000:19400000\", \"NERICA_1:chr04:19370000:19400000\", \"NORTAI:chr04:19370000:19400000\", \"RATUL:chr04:19370000:19400000\", \"REXMONT:chr04:19370000:19400000\", \"SESIA:chr04:19370000:19400000\", \"SHONI:chr04:19370000:19400000\", \"SURJAMUKHI:chr04:19370000:19400000\", \"TAKANARI:chr04:19370000:19400000\", \"TUPA_121-3:chr04:19370000:19400000\", \"TUPA_729:chr04:19370000:19400000\", \"URASAN:chr04:19370000:19400000\"], \"y0\": \" \", \"yaxis\": \"y\"}, {\"alignmentgroup\": \"True\", \"boxpoints\": \"all\", \"fillcolor\": \"rgba(255,255,255,0)\", \"hoverlabel\": {\"namelength\": 0}, \"hoveron\": \"points\", \"hovertemplate\": \"motif=(GGAGTC)n<br>qstart=%{x}<br>query=%{y}\", \"legendgroup\": \"motif=(GGAGTC)n\", \"line\": {\"color\": \"rgba(255,255,255,0)\"}, \"marker\": {\"color\": \"#EF553B\"}, \"name\": \"motif=(GGAGTC)n\", \"offsetgroup\": \"motif=(GGAGTC)n\", \"orientation\": \"v\", \"pointpos\": 0, \"showlegend\": true, \"type\": \"box\", \"x\": [21514, 21514, 21514, 21514, 21514, 21514, 21514, 21514, 21514, 21514, 21514, 21514, 21514, 21514, 21514, 21514, 21514, 21514, 21514, 21514, 21514], \"x0\": \" \", \"xaxis\": \"x\", \"y\": [\"BADARI_DHAN:chr04:19370000:19400000\", \"C8005:chr04:19370000:19400000\", \"DEE_JIAO_HUA_LUO:chr04:19370000:19400000\", \"HAYAYUKI:chr04:19370000:19400000\", \"IRGSP1.0:chr04:19370000:19400000\", \"JAGUARY:chr04:19370000:19400000\", \"KALUHEENATI:chr04:19370000:19400000\", \"KASALATH:chr04:19370000:19400000\", \"KEIBOBA:chr04:19370000:19400000\", \"MOUKOTOU:chr04:19370000:19400000\", \"NERICA_1:chr04:19370000:19400000\", \"NORTAI:chr04:19370000:19400000\", \"RATUL:chr04:19370000:19400000\", \"REXMONT:chr04:19370000:19400000\", \"SESIA:chr04:19370000:19400000\", \"SHONI:chr04:19370000:19400000\", \"SURJAMUKHI:chr04:19370000:19400000\", \"TAKANARI:chr04:19370000:19400000\", \"TUPA_121-3:chr04:19370000:19400000\", \"TUPA_729:chr04:19370000:19400000\", \"URASAN:chr04:19370000:19400000\"], \"y0\": \" \", \"yaxis\": \"y\"}, {\"alignmentgroup\": \"True\", \"boxpoints\": \"all\", \"fillcolor\": \"rgba(255,255,255,0)\", \"hoverlabel\": {\"namelength\": 0}, \"hoveron\": \"points\", \"hovertemplate\": \"motif=(AT)n<br>qstart=%{x}<br>query=%{y}\", \"legendgroup\": \"motif=(AT)n\", \"line\": {\"color\": \"rgba(255,255,255,0)\"}, \"marker\": {\"color\": \"#00cc96\"}, \"name\": \"motif=(AT)n\", \"offsetgroup\": \"motif=(AT)n\", \"orientation\": \"v\", \"pointpos\": 0, \"showlegend\": true, \"type\": \"box\", \"x\": [21746, 21746, 21746, 21746, 21746, 21746, 21746, 21746, 21746, 21746, 21746, 21746, 21746, 21746, 21746, 21746, 21746, 21746, 21746, 21746, 21746], \"x0\": \" \", \"xaxis\": \"x\", \"y\": [\"BADARI_DHAN:chr04:19370000:19400000\", \"C8005:chr04:19370000:19400000\", \"DEE_JIAO_HUA_LUO:chr04:19370000:19400000\", \"HAYAYUKI:chr04:19370000:19400000\", \"IRGSP1.0:chr04:19370000:19400000\", \"JAGUARY:chr04:19370000:19400000\", \"KALUHEENATI:chr04:19370000:19400000\", \"KASALATH:chr04:19370000:19400000\", \"KEIBOBA:chr04:19370000:19400000\", \"MOUKOTOU:chr04:19370000:19400000\", \"NERICA_1:chr04:19370000:19400000\", \"NORTAI:chr04:19370000:19400000\", \"RATUL:chr04:19370000:19400000\", \"REXMONT:chr04:19370000:19400000\", \"SESIA:chr04:19370000:19400000\", \"SHONI:chr04:19370000:19400000\", \"SURJAMUKHI:chr04:19370000:19400000\", \"TAKANARI:chr04:19370000:19400000\", \"TUPA_121-3:chr04:19370000:19400000\", \"TUPA_729:chr04:19370000:19400000\", \"URASAN:chr04:19370000:19400000\"], \"y0\": \" \", \"yaxis\": \"y\"}, {\"alignmentgroup\": \"True\", \"boxpoints\": \"all\", \"fillcolor\": \"rgba(255,255,255,0)\", \"hoverlabel\": {\"namelength\": 0}, \"hoveron\": \"points\", \"hovertemplate\": \"motif=(ATAATT)n<br>qstart=%{x}<br>query=%{y}\", \"legendgroup\": \"motif=(ATAATT)n\", \"line\": {\"color\": \"rgba(255,255,255,0)\"}, \"marker\": {\"color\": \"#ab63fa\"}, \"name\": \"motif=(ATAATT)n\", \"offsetgroup\": \"motif=(ATAATT)n\", \"orientation\": \"v\", \"pointpos\": 0, \"showlegend\": true, \"type\": \"box\", \"x\": [22960, 22960, 22960, 22960, 22960, 22960, 22960, 22960, 22960, 22960, 22960, 22960, 22960, 22960, 22960, 22960, 22960, 22960, 22960, 22960, 22960], \"x0\": \" \", \"xaxis\": \"x\", \"y\": [\"BADARI_DHAN:chr04:19370000:19400000\", \"C8005:chr04:19370000:19400000\", \"DEE_JIAO_HUA_LUO:chr04:19370000:19400000\", \"HAYAYUKI:chr04:19370000:19400000\", \"IRGSP1.0:chr04:19370000:19400000\", \"JAGUARY:chr04:19370000:19400000\", \"KALUHEENATI:chr04:19370000:19400000\", \"KASALATH:chr04:19370000:19400000\", \"KEIBOBA:chr04:19370000:19400000\", \"MOUKOTOU:chr04:19370000:19400000\", \"NERICA_1:chr04:19370000:19400000\", \"NORTAI:chr04:19370000:19400000\", \"RATUL:chr04:19370000:19400000\", \"REXMONT:chr04:19370000:19400000\", \"SESIA:chr04:19370000:19400000\", \"SHONI:chr04:19370000:19400000\", \"SURJAMUKHI:chr04:19370000:19400000\", \"TAKANARI:chr04:19370000:19400000\", \"TUPA_121-3:chr04:19370000:19400000\", \"TUPA_729:chr04:19370000:19400000\", \"URASAN:chr04:19370000:19400000\"], \"y0\": \" \", \"yaxis\": \"y\"}, {\"alignmentgroup\": \"True\", \"boxpoints\": \"all\", \"fillcolor\": \"rgba(255,255,255,0)\", \"hoverlabel\": {\"namelength\": 0}, \"hoveron\": \"points\", \"hovertemplate\": \"motif=(A)n<br>qstart=%{x}<br>query=%{y}\", \"legendgroup\": \"motif=(A)n\", \"line\": {\"color\": \"rgba(255,255,255,0)\"}, \"marker\": {\"color\": \"#FFA15A\"}, \"name\": \"motif=(A)n\", \"offsetgroup\": \"motif=(A)n\", \"orientation\": \"v\", \"pointpos\": 0, \"showlegend\": true, \"type\": \"box\", \"x\": [26492, 26492, 26492, 26492, 26492, 26492, 26492, 26492, 26492, 26492, 26492, 26492, 26492, 26492, 26492, 26492, 26492, 26492, 26492, 26492, 26492], \"x0\": \" \", \"xaxis\": \"x\", \"y\": [\"BADARI_DHAN:chr04:19370000:19400000\", \"C8005:chr04:19370000:19400000\", \"DEE_JIAO_HUA_LUO:chr04:19370000:19400000\", \"HAYAYUKI:chr04:19370000:19400000\", \"IRGSP1.0:chr04:19370000:19400000\", \"JAGUARY:chr04:19370000:19400000\", \"KALUHEENATI:chr04:19370000:19400000\", \"KASALATH:chr04:19370000:19400000\", \"KEIBOBA:chr04:19370000:19400000\", \"MOUKOTOU:chr04:19370000:19400000\", \"NERICA_1:chr04:19370000:19400000\", \"NORTAI:chr04:19370000:19400000\", \"RATUL:chr04:19370000:19400000\", \"REXMONT:chr04:19370000:19400000\", \"SESIA:chr04:19370000:19400000\", \"SHONI:chr04:19370000:19400000\", \"SURJAMUKHI:chr04:19370000:19400000\", \"TAKANARI:chr04:19370000:19400000\", \"TUPA_121-3:chr04:19370000:19400000\", \"TUPA_729:chr04:19370000:19400000\", \"URASAN:chr04:19370000:19400000\"], \"y0\": \" \", \"yaxis\": \"y\"}, {\"alignmentgroup\": \"True\", \"boxpoints\": \"all\", \"fillcolor\": \"rgba(255,255,255,0)\", \"hoverlabel\": {\"namelength\": 0}, \"hoveron\": \"points\", \"hovertemplate\": \"motif=(CGCCGC)n<br>qstart=%{x}<br>query=%{y}\", \"legendgroup\": \"motif=(CGCCGC)n\", \"line\": {\"color\": \"rgba(255,255,255,0)\"}, \"marker\": {\"color\": \"#19d3f3\"}, \"name\": \"motif=(CGCCGC)n\", \"offsetgroup\": \"motif=(CGCCGC)n\", \"orientation\": \"v\", \"pointpos\": 0, \"showlegend\": true, \"type\": \"box\", \"x\": [26526, 26526, 26526, 26526, 26526, 26526, 26526, 26526, 26526, 26526, 26526, 26526, 26526, 26526, 26526, 26526, 26526, 26526, 26526, 26526, 26526], \"x0\": \" \", \"xaxis\": \"x\", \"y\": [\"BADARI_DHAN:chr04:19370000:19400000\", \"C8005:chr04:19370000:19400000\", \"DEE_JIAO_HUA_LUO:chr04:19370000:19400000\", \"HAYAYUKI:chr04:19370000:19400000\", \"IRGSP1.0:chr04:19370000:19400000\", \"JAGUARY:chr04:19370000:19400000\", \"KALUHEENATI:chr04:19370000:19400000\", \"KASALATH:chr04:19370000:19400000\", \"KEIBOBA:chr04:19370000:19400000\", \"MOUKOTOU:chr04:19370000:19400000\", \"NERICA_1:chr04:19370000:19400000\", \"NORTAI:chr04:19370000:19400000\", \"RATUL:chr04:19370000:19400000\", \"REXMONT:chr04:19370000:19400000\", \"SESIA:chr04:19370000:19400000\", \"SHONI:chr04:19370000:19400000\", \"SURJAMUKHI:chr04:19370000:19400000\", \"TAKANARI:chr04:19370000:19400000\", \"TUPA_121-3:chr04:19370000:19400000\", \"TUPA_729:chr04:19370000:19400000\", \"URASAN:chr04:19370000:19400000\"], \"y0\": \" \", \"yaxis\": \"y\"}, {\"alignmentgroup\": \"True\", \"boxpoints\": \"all\", \"fillcolor\": \"rgba(255,255,255,0)\", \"hoverlabel\": {\"namelength\": 0}, \"hoveron\": \"points\", \"hovertemplate\": \"motif=G-rich<br>qstart=%{x}<br>query=%{y}\", \"legendgroup\": \"motif=G-rich\", \"line\": {\"color\": \"rgba(255,255,255,0)\"}, \"marker\": {\"color\": \"#FF6692\"}, \"name\": \"motif=G-rich\", \"offsetgroup\": \"motif=G-rich\", \"orientation\": \"v\", \"pointpos\": 0, \"showlegend\": true, \"type\": \"box\", \"x\": [26649, 26649, 26649, 26649, 26649, 26649, 26649, 26649, 26649, 26649, 26649, 26649, 26649, 26649, 26649, 26649, 26649, 26649, 26649, 26649, 26649], \"x0\": \" \", \"xaxis\": \"x\", \"y\": [\"BADARI_DHAN:chr04:19370000:19400000\", \"C8005:chr04:19370000:19400000\", \"DEE_JIAO_HUA_LUO:chr04:19370000:19400000\", \"HAYAYUKI:chr04:19370000:19400000\", \"IRGSP1.0:chr04:19370000:19400000\", \"JAGUARY:chr04:19370000:19400000\", \"KALUHEENATI:chr04:19370000:19400000\", \"KASALATH:chr04:19370000:19400000\", \"KEIBOBA:chr04:19370000:19400000\", \"MOUKOTOU:chr04:19370000:19400000\", \"NERICA_1:chr04:19370000:19400000\", \"NORTAI:chr04:19370000:19400000\", \"RATUL:chr04:19370000:19400000\", \"REXMONT:chr04:19370000:19400000\", \"SESIA:chr04:19370000:19400000\", \"SHONI:chr04:19370000:19400000\", \"SURJAMUKHI:chr04:19370000:19400000\", \"TAKANARI:chr04:19370000:19400000\", \"TUPA_121-3:chr04:19370000:19400000\", \"TUPA_729:chr04:19370000:19400000\", \"URASAN:chr04:19370000:19400000\"], \"y0\": \" \", \"yaxis\": \"y\"}, {\"alignmentgroup\": \"True\", \"boxpoints\": \"all\", \"fillcolor\": \"rgba(255,255,255,0)\", \"hoverlabel\": {\"namelength\": 0}, \"hoveron\": \"points\", \"hovertemplate\": \"motif=(CGT)n<br>qstart=%{x}<br>query=%{y}\", \"legendgroup\": \"motif=(CGT)n\", \"line\": {\"color\": \"rgba(255,255,255,0)\"}, \"marker\": {\"color\": \"#B6E880\"}, \"name\": \"motif=(CGT)n\", \"offsetgroup\": \"motif=(CGT)n\", \"orientation\": \"v\", \"pointpos\": 0, \"showlegend\": true, \"type\": \"box\", \"x\": [1348, 1348, 1348], \"x0\": \" \", \"xaxis\": \"x\", \"y\": [\"DEE_JIAO_HUA_LUO:chr04:19370000:19400000\", \"KEIBOBA:chr04:19370000:19400000\", \"TAKANARI:chr04:19370000:19400000\"], \"y0\": \" \", \"yaxis\": \"y\"}],\n",
       "                        {\"boxmode\": \"group\", \"height\": 600, \"legend\": {\"tracegroupgap\": 0}, \"margin\": {\"t\": 60}, \"template\": {\"data\": {\"bar\": [{\"error_x\": {\"color\": \"#2a3f5f\"}, \"error_y\": {\"color\": \"#2a3f5f\"}, \"marker\": {\"line\": {\"color\": \"#E5ECF6\", \"width\": 0.5}}, \"type\": \"bar\"}], \"barpolar\": [{\"marker\": {\"line\": {\"color\": \"#E5ECF6\", \"width\": 0.5}}, \"type\": \"barpolar\"}], \"carpet\": [{\"aaxis\": {\"endlinecolor\": \"#2a3f5f\", \"gridcolor\": \"white\", \"linecolor\": \"white\", \"minorgridcolor\": \"white\", \"startlinecolor\": \"#2a3f5f\"}, \"baxis\": {\"endlinecolor\": \"#2a3f5f\", \"gridcolor\": \"white\", \"linecolor\": \"white\", \"minorgridcolor\": \"white\", \"startlinecolor\": \"#2a3f5f\"}, \"type\": \"carpet\"}], \"choropleth\": [{\"colorbar\": {\"outlinewidth\": 0, \"ticks\": \"\"}, \"type\": \"choropleth\"}], \"contour\": [{\"colorbar\": {\"outlinewidth\": 0, \"ticks\": \"\"}, \"colorscale\": [[0.0, \"#0d0887\"], [0.1111111111111111, \"#46039f\"], [0.2222222222222222, \"#7201a8\"], [0.3333333333333333, \"#9c179e\"], [0.4444444444444444, \"#bd3786\"], [0.5555555555555556, \"#d8576b\"], [0.6666666666666666, \"#ed7953\"], [0.7777777777777778, \"#fb9f3a\"], [0.8888888888888888, \"#fdca26\"], [1.0, \"#f0f921\"]], \"type\": \"contour\"}], \"contourcarpet\": [{\"colorbar\": {\"outlinewidth\": 0, \"ticks\": \"\"}, \"type\": \"contourcarpet\"}], \"heatmap\": [{\"colorbar\": {\"outlinewidth\": 0, \"ticks\": \"\"}, \"colorscale\": [[0.0, \"#0d0887\"], [0.1111111111111111, \"#46039f\"], [0.2222222222222222, \"#7201a8\"], [0.3333333333333333, \"#9c179e\"], [0.4444444444444444, \"#bd3786\"], [0.5555555555555556, \"#d8576b\"], [0.6666666666666666, \"#ed7953\"], [0.7777777777777778, \"#fb9f3a\"], [0.8888888888888888, \"#fdca26\"], [1.0, \"#f0f921\"]], \"type\": \"heatmap\"}], \"heatmapgl\": [{\"colorbar\": {\"outlinewidth\": 0, \"ticks\": \"\"}, \"colorscale\": [[0.0, \"#0d0887\"], [0.1111111111111111, \"#46039f\"], [0.2222222222222222, \"#7201a8\"], [0.3333333333333333, \"#9c179e\"], [0.4444444444444444, \"#bd3786\"], [0.5555555555555556, \"#d8576b\"], [0.6666666666666666, \"#ed7953\"], [0.7777777777777778, \"#fb9f3a\"], [0.8888888888888888, \"#fdca26\"], [1.0, \"#f0f921\"]], \"type\": \"heatmapgl\"}], \"histogram\": [{\"marker\": {\"colorbar\": {\"outlinewidth\": 0, \"ticks\": \"\"}}, \"type\": \"histogram\"}], \"histogram2d\": [{\"colorbar\": {\"outlinewidth\": 0, \"ticks\": \"\"}, \"colorscale\": [[0.0, \"#0d0887\"], [0.1111111111111111, \"#46039f\"], [0.2222222222222222, \"#7201a8\"], [0.3333333333333333, \"#9c179e\"], [0.4444444444444444, \"#bd3786\"], [0.5555555555555556, \"#d8576b\"], [0.6666666666666666, \"#ed7953\"], [0.7777777777777778, \"#fb9f3a\"], [0.8888888888888888, \"#fdca26\"], [1.0, \"#f0f921\"]], \"type\": \"histogram2d\"}], \"histogram2dcontour\": [{\"colorbar\": {\"outlinewidth\": 0, \"ticks\": \"\"}, \"colorscale\": [[0.0, \"#0d0887\"], [0.1111111111111111, \"#46039f\"], [0.2222222222222222, \"#7201a8\"], [0.3333333333333333, \"#9c179e\"], [0.4444444444444444, \"#bd3786\"], [0.5555555555555556, \"#d8576b\"], [0.6666666666666666, \"#ed7953\"], [0.7777777777777778, \"#fb9f3a\"], [0.8888888888888888, \"#fdca26\"], [1.0, \"#f0f921\"]], \"type\": \"histogram2dcontour\"}], \"mesh3d\": [{\"colorbar\": {\"outlinewidth\": 0, \"ticks\": \"\"}, \"type\": \"mesh3d\"}], \"parcoords\": [{\"line\": {\"colorbar\": {\"outlinewidth\": 0, \"ticks\": \"\"}}, \"type\": \"parcoords\"}], \"scatter\": [{\"marker\": {\"colorbar\": {\"outlinewidth\": 0, \"ticks\": \"\"}}, \"type\": \"scatter\"}], \"scatter3d\": [{\"line\": {\"colorbar\": {\"outlinewidth\": 0, \"ticks\": \"\"}}, \"marker\": {\"colorbar\": {\"outlinewidth\": 0, \"ticks\": \"\"}}, \"type\": \"scatter3d\"}], \"scattercarpet\": [{\"marker\": {\"colorbar\": {\"outlinewidth\": 0, \"ticks\": \"\"}}, \"type\": \"scattercarpet\"}], \"scattergeo\": [{\"marker\": {\"colorbar\": {\"outlinewidth\": 0, \"ticks\": \"\"}}, \"type\": \"scattergeo\"}], \"scattergl\": [{\"marker\": {\"colorbar\": {\"outlinewidth\": 0, \"ticks\": \"\"}}, \"type\": \"scattergl\"}], \"scattermapbox\": [{\"marker\": {\"colorbar\": {\"outlinewidth\": 0, \"ticks\": \"\"}}, \"type\": \"scattermapbox\"}], \"scatterpolar\": [{\"marker\": {\"colorbar\": {\"outlinewidth\": 0, \"ticks\": \"\"}}, \"type\": \"scatterpolar\"}], \"scatterpolargl\": [{\"marker\": {\"colorbar\": {\"outlinewidth\": 0, \"ticks\": \"\"}}, \"type\": \"scatterpolargl\"}], \"scatterternary\": [{\"marker\": {\"colorbar\": {\"outlinewidth\": 0, \"ticks\": \"\"}}, \"type\": \"scatterternary\"}], \"surface\": [{\"colorbar\": {\"outlinewidth\": 0, \"ticks\": \"\"}, \"colorscale\": [[0.0, \"#0d0887\"], [0.1111111111111111, \"#46039f\"], [0.2222222222222222, \"#7201a8\"], [0.3333333333333333, \"#9c179e\"], [0.4444444444444444, \"#bd3786\"], [0.5555555555555556, \"#d8576b\"], [0.6666666666666666, \"#ed7953\"], [0.7777777777777778, \"#fb9f3a\"], [0.8888888888888888, \"#fdca26\"], [1.0, \"#f0f921\"]], \"type\": \"surface\"}], \"table\": [{\"cells\": {\"fill\": {\"color\": \"#EBF0F8\"}, \"line\": {\"color\": \"white\"}}, \"header\": {\"fill\": {\"color\": \"#C8D4E3\"}, \"line\": {\"color\": \"white\"}}, \"type\": \"table\"}]}, \"layout\": {\"annotationdefaults\": {\"arrowcolor\": \"#2a3f5f\", \"arrowhead\": 0, \"arrowwidth\": 1}, \"colorscale\": {\"diverging\": [[0, \"#8e0152\"], [0.1, \"#c51b7d\"], [0.2, \"#de77ae\"], [0.3, \"#f1b6da\"], [0.4, \"#fde0ef\"], [0.5, \"#f7f7f7\"], [0.6, \"#e6f5d0\"], [0.7, \"#b8e186\"], [0.8, \"#7fbc41\"], [0.9, \"#4d9221\"], [1, \"#276419\"]], \"sequential\": [[0.0, \"#0d0887\"], [0.1111111111111111, \"#46039f\"], [0.2222222222222222, \"#7201a8\"], [0.3333333333333333, \"#9c179e\"], [0.4444444444444444, \"#bd3786\"], [0.5555555555555556, \"#d8576b\"], [0.6666666666666666, \"#ed7953\"], [0.7777777777777778, \"#fb9f3a\"], [0.8888888888888888, \"#fdca26\"], [1.0, \"#f0f921\"]], \"sequentialminus\": [[0.0, \"#0d0887\"], [0.1111111111111111, \"#46039f\"], [0.2222222222222222, \"#7201a8\"], [0.3333333333333333, \"#9c179e\"], [0.4444444444444444, \"#bd3786\"], [0.5555555555555556, \"#d8576b\"], [0.6666666666666666, \"#ed7953\"], [0.7777777777777778, \"#fb9f3a\"], [0.8888888888888888, \"#fdca26\"], [1.0, \"#f0f921\"]]}, \"colorway\": [\"#636efa\", \"#EF553B\", \"#00cc96\", \"#ab63fa\", \"#FFA15A\", \"#19d3f3\", \"#FF6692\", \"#B6E880\", \"#FF97FF\", \"#FECB52\"], \"font\": {\"color\": \"#2a3f5f\"}, \"geo\": {\"bgcolor\": \"white\", \"lakecolor\": \"white\", \"landcolor\": \"#E5ECF6\", \"showlakes\": true, \"showland\": true, \"subunitcolor\": \"white\"}, \"hoverlabel\": {\"align\": \"left\"}, \"hovermode\": \"closest\", \"mapbox\": {\"style\": \"light\"}, \"paper_bgcolor\": \"white\", \"plot_bgcolor\": \"#E5ECF6\", \"polar\": {\"angularaxis\": {\"gridcolor\": \"white\", \"linecolor\": \"white\", \"ticks\": \"\"}, \"bgcolor\": \"#E5ECF6\", \"radialaxis\": {\"gridcolor\": \"white\", \"linecolor\": \"white\", \"ticks\": \"\"}}, \"scene\": {\"xaxis\": {\"backgroundcolor\": \"#E5ECF6\", \"gridcolor\": \"white\", \"gridwidth\": 2, \"linecolor\": \"white\", \"showbackground\": true, \"ticks\": \"\", \"zerolinecolor\": \"white\"}, \"yaxis\": {\"backgroundcolor\": \"#E5ECF6\", \"gridcolor\": \"white\", \"gridwidth\": 2, \"linecolor\": \"white\", \"showbackground\": true, \"ticks\": \"\", \"zerolinecolor\": \"white\"}, \"zaxis\": {\"backgroundcolor\": \"#E5ECF6\", \"gridcolor\": \"white\", \"gridwidth\": 2, \"linecolor\": \"white\", \"showbackground\": true, \"ticks\": \"\", \"zerolinecolor\": \"white\"}}, \"shapedefaults\": {\"line\": {\"color\": \"#2a3f5f\"}}, \"ternary\": {\"aaxis\": {\"gridcolor\": \"white\", \"linecolor\": \"white\", \"ticks\": \"\"}, \"baxis\": {\"gridcolor\": \"white\", \"linecolor\": \"white\", \"ticks\": \"\"}, \"bgcolor\": \"#E5ECF6\", \"caxis\": {\"gridcolor\": \"white\", \"linecolor\": \"white\", \"ticks\": \"\"}}, \"title\": {\"x\": 0.05}, \"xaxis\": {\"automargin\": true, \"gridcolor\": \"white\", \"linecolor\": \"white\", \"ticks\": \"\", \"zerolinecolor\": \"white\", \"zerolinewidth\": 2}, \"yaxis\": {\"automargin\": true, \"gridcolor\": \"white\", \"linecolor\": \"white\", \"ticks\": \"\", \"zerolinecolor\": \"white\", \"zerolinewidth\": 2}}}, \"xaxis\": {\"anchor\": \"y\", \"domain\": [0.0, 0.98], \"title\": {\"text\": \"qstart\"}}, \"yaxis\": {\"anchor\": \"x\", \"domain\": [0.0, 1.0], \"title\": {\"text\": \"query\"}}},\n",
       "                        {\"responsive\": true}\n",
       "                    ).then(function(){\n",
       "                            \n",
       "var gd = document.getElementById('0651a631-4104-41cb-a6e5-8815a3f85773');\n",
       "var x = new MutationObserver(function (mutations, observer) {{\n",
       "        var display = window.getComputedStyle(gd).display;\n",
       "        if (!display || display === 'none') {{\n",
       "            console.log([gd, 'removed!']);\n",
       "            Plotly.purge(gd);\n",
       "            observer.disconnect();\n",
       "        }}\n",
       "}});\n",
       "\n",
       "// Listen for the removal of the full notebook cells\n",
       "var notebookContainer = gd.closest('#notebook-container');\n",
       "if (notebookContainer) {{\n",
       "    x.observe(notebookContainer, {childList: true});\n",
       "}}\n",
       "\n",
       "// Listen for the clearing of the current output cell\n",
       "var outputEl = gd.closest('.output');\n",
       "if (outputEl) {{\n",
       "    x.observe(outputEl, {childList: true});\n",
       "}}\n",
       "\n",
       "                        })\n",
       "                };\n",
       "                });\n",
       "            </script>\n",
       "        </div>"
      ]
     },
     "metadata": {},
     "output_type": "display_data"
    }
   ],
   "source": [
    "px.strip(repeatmasker, x='qstart', y='query', color='motif')"
   ]
  },
  {
   "cell_type": "code",
   "execution_count": null,
   "metadata": {},
   "outputs": [],
   "source": []
  }
 ],
 "metadata": {
  "kernelspec": {
   "display_name": "Python 3",
   "language": "python",
   "name": "python3"
  },
  "language_info": {
   "codemirror_mode": {
    "name": "ipython",
    "version": 3
   },
   "file_extension": ".py",
   "mimetype": "text/x-python",
   "name": "python",
   "nbconvert_exporter": "python",
   "pygments_lexer": "ipython3",
   "version": "3.6.7"
  }
 },
 "nbformat": 4,
 "nbformat_minor": 2
}
