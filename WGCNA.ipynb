{
 "cells": [
  {
   "cell_type": "markdown",
   "metadata": {},
   "source": [
    "**Author:** Dan Shea  \n",
    "**Date:** 2019.10.15  \n",
    "**Description:**\n",
    "#### Weighted Gene Co-expression Network Analysis\n",
    "This library implements the analytical methods described in \"WGCNA: an R package for weighted correlation network analysis\" by Langfelder and Horvath, 2008 (doi: 10.1186/1471-2105-9-559). Given a the gene expression data for a sample population (where a population size of $n$ is recommended to be $n \\ge 15$), a network is first constructed using the correlation of expression between genes. Here, genes are the set that comprises the vertices of the graph $G$. We may then construct an $n \\times m$ matrix $X$ such that $X_{ij}$ is the $i^{th}$ gene of the $j^{th}$ sample. The correlation (signed $cor(x_{i}, x_{j})$ or unsigned $|cor(x_{i}, x_{j})|$) of the expression values is then used as the weighted link between the two genes.\n",
    "\n",
    "Given that $s_{ij} = |cor(x_{i},x_{j})|$ we can construct a co-expression network defined by edges $a_{ij}$ that satisfy either a hard threshold $\\tau$, where $a_{ij} = 1$ _iff_ $s_{ij} \\ge \\tau$ and $a_{ij} = 0$ _iff_ $s_{ij} \\lt \\tau$, or a soft threshold $\\beta$, where $a_{ij} = s_{ij}^{\\beta}$.\n",
    "\n",
    "If trait based data is also applied (_e.g._ - phenotypic, GO, KEGG pathway, _etc._) each node may be assigned a trait-based significance measure $GS_{i} = |cor(x_{i},T)|$, where $T$ is a vector with $m$ components that correspond to the columns of $X$. That is to say, each sample in the population has an assigned trait value in $T$.\n",
    "\n",
    "Once the graph / network has been constructed, we may then cluster nodes into _modules_, where a module is defined as a set of highly interconnected nodes. The modules (_i.e._ - a set of sub-networks) may then be ranked by a suitable metric (_e.g._ - The mean connectivity of each node in the module, or the mean $\\overline{GS}$ computed from the $GS_{i}$ of each node in the module.) "
   ]
  },
  {
   "cell_type": "code",
   "execution_count": 1,
   "metadata": {},
   "outputs": [],
   "source": [
    "import networkx as nx\n",
    "import nxviz\n",
    "import numpy as np\n",
    "import scipy.stats as spstats\n",
    "import re\n",
    "import random\n",
    "import os\n",
    "import os.path\n",
    "import sys\n",
    "from collections import OrderedDict"
   ]
  },
  {
   "cell_type": "code",
   "execution_count": 2,
   "metadata": {},
   "outputs": [],
   "source": [
    "def load_data(filename, sep='\\t'):\n",
    "    '''\n",
    "    load_data(filename) loads the data defined in filename.\n",
    "    returns a dictionary with the gene names as keys and a numpy array of expression values as the value.\n",
    "    '''\n",
    "    try:\n",
    "        with open(filename, 'r') as fh:\n",
    "            D = OrderedDict()\n",
    "            for line in fh:\n",
    "                line = line.strip()\n",
    "                data = line.split(sep)\n",
    "                key = data.pop(0)\n",
    "                D[key] = np.array([float(x) for x in data])\n",
    "            return D\n",
    "    except FileNotFoundError as e:\n",
    "        sys.stderr.write('{} cannot be opened for reading.\\nPlease ensure the file exists and/or has the correct permissions.'.format(filename))\n",
    "        sys.exit(1)"
   ]
  },
  {
   "cell_type": "code",
   "execution_count": 3,
   "metadata": {},
   "outputs": [],
   "source": [
    "testdict = load_data('testdata.tsv')"
   ]
  },
  {
   "cell_type": "code",
   "execution_count": 4,
   "metadata": {},
   "outputs": [],
   "source": [
    "# Let's make our own data\n",
    "testdict = OrderedDict()\n",
    "nsamples=30\n",
    "fixed_data = np.array([random.random() for i in range(30)])\n",
    "for i in range(100):\n",
    "    if i % 2 == 0:\n",
    "        testdict[f'gene{i}'] = np.array([random.random() for i in range(30)]) * fixed_data\n",
    "    elif i % 3 == 0:\n",
    "        testdict[f'gene{i}'] = np.array([random.random() for i in range(30)]) + fixed_data\n",
    "    else:\n",
    "        testdict[f'gene{i}'] = np.array([random.random() for i in range(30)])"
   ]
  },
  {
   "cell_type": "code",
   "execution_count": 5,
   "metadata": {},
   "outputs": [],
   "source": [
    "def compute_correlation(data):\n",
    "    rows = list(data.keys())\n",
    "    n = len(rows)\n",
    "    m = len(data[rows[0]])\n",
    "    C = np.matrix(np.reshape(np.ones(n*n), (n, n)))\n",
    "    i=0\n",
    "    for rowi in rows:\n",
    "        j = i + 1\n",
    "        for rowj in rows[j:]:\n",
    "            #print('Comparing {}:{} to {}:{}'.format(rowi,i,rowj,j), flush=True)\n",
    "            if i == j:\n",
    "                cor = 0\n",
    "            else:\n",
    "                cor = spstats.pearsonr(data[rowi], data[rowj])[0]\n",
    "            C[i,j] = cor\n",
    "            C[j,i] = cor\n",
    "            j += 1\n",
    "        i += 1\n",
    "    return C"
   ]
  },
  {
   "cell_type": "code",
   "execution_count": 6,
   "metadata": {},
   "outputs": [],
   "source": [
    "corr = compute_correlation(testdict)"
   ]
  },
  {
   "cell_type": "code",
   "execution_count": 7,
   "metadata": {},
   "outputs": [
    {
     "data": {
      "text/plain": [
       "matrix([[ 1.        ,  0.03744514,  0.45534824, ..., -0.03871343,\n",
       "          0.25509014,  0.37684372],\n",
       "        [ 0.03744514,  1.        ,  0.07605661, ..., -0.31266228,\n",
       "         -0.03322342, -0.1733785 ],\n",
       "        [ 0.45534824,  0.07605661,  1.        , ..., -0.02067622,\n",
       "          0.46012479,  0.48605918],\n",
       "        ...,\n",
       "        [-0.03871343, -0.31266228, -0.02067622, ...,  1.        ,\n",
       "          0.09837293,  0.13343374],\n",
       "        [ 0.25509014, -0.03322342,  0.46012479, ...,  0.09837293,\n",
       "          1.        ,  0.50645004],\n",
       "        [ 0.37684372, -0.1733785 ,  0.48605918, ...,  0.13343374,\n",
       "          0.50645004,  1.        ]])"
      ]
     },
     "execution_count": 7,
     "metadata": {},
     "output_type": "execute_result"
    }
   ],
   "source": [
    "# Because we don't compare any nodes with themselves, their correlation coefficients are 1.0.\n",
    "# (Set from the initialization of the matrix as all 1 values)\n",
    "# This is fine, because calculating the correlation of anything to itself would yield a coefficient of 1.0.\n",
    "corr"
   ]
  },
  {
   "cell_type": "markdown",
   "metadata": {},
   "source": [
    "We have constructed the matrix that represents the correlation (Pearson's correlation coefficient) for all ${\\langle}x_{i},x_{j}{\\rangle}$ in the data set. Next, we want to construct the adjacency matrix by applying weights. Consider that in a typical adjacency matrix, we have a symmetric matrix with binary values _i.e._ – $A = [a_{ij}]$ and $a_{ij} \\in \\{0,1\\}$ We have essentially already construct such a matrix and applied the following transform $a_{ij} = cor(x_{i},x_{j}) \\equiv W = A \\cdot C$\n",
    "\n",
    "However, this alone is not the weighted adjacency matrix $W$. We  apply a monotonic function that maps from $\\mathcal{R} \\in [0,1] \\rightarrow [0,1]$. This function $f(s_{ij})$ may either be a hard thresholding, such as a step-function using some threshold $\\tau$ such that $f(s_{ij}) = 0: s_{ij} < \\tau, 1: s_{ij} \\ge \\tau$, or we may apply soft thresholding , such as a power function $f(s_{ij}) = s_{ij}^{\\beta}$ where $\\mathcal{I} \\equiv \\{0,1,\\dots,n\\}$ and $\\beta \\in \\mathcal{I}$.\n",
    "\n",
    "Here, we will make use of a power function $f(s_{ij}) = s_{ij}^{4}$ for starters and change $\\beta$.  \n",
    "__NOTE:__ As $\\beta$ increases it begins to approximate a step function making use of $\\tau = 0.8$\n",
    "\n",
    "Rather than apply two functions separately, we can simply perform the power step when we compute the correlation. For pedagogical purposes, I have re-written the function below."
   ]
  },
  {
   "cell_type": "code",
   "execution_count": 8,
   "metadata": {},
   "outputs": [],
   "source": [
    "def compute_weighted_adjacency(data, beta=4):\n",
    "    rows = list(data.keys())\n",
    "    n = len(rows)\n",
    "    m = len(data[rows[0]])\n",
    "    W = np.matrix(np.reshape(np.ones(n*n), (n, n)))\n",
    "    i=0\n",
    "    for rowi in rows:\n",
    "        j = i + 1\n",
    "        for rowj in rows[j:]:\n",
    "            #print('Comparing {}:{} to {}:{}'.format(rowi,i,rowj,j), flush=True)\n",
    "            if i == j:\n",
    "                wcor = 0\n",
    "            else:\n",
    "                wcor = (spstats.pearsonr(data[rowi], data[rowj])[0])**4\n",
    "            W[i,j] = wcor\n",
    "            W[j,i] = wcor\n",
    "            j += 1\n",
    "        i += 1\n",
    "    return W"
   ]
  },
  {
   "cell_type": "code",
   "execution_count": 9,
   "metadata": {},
   "outputs": [],
   "source": [
    "weighted_adjacency = compute_weighted_adjacency(testdict)"
   ]
  },
  {
   "cell_type": "code",
   "execution_count": 10,
   "metadata": {},
   "outputs": [
    {
     "data": {
      "text/plain": [
       "matrix([[1.00000000e+00, 1.96599191e-06, 4.29907137e-02, ...,\n",
       "         2.24618998e-06, 4.23423222e-03, 2.01671770e-02],\n",
       "        [1.96599191e-06, 1.00000000e+00, 3.34616952e-05, ...,\n",
       "         9.55656803e-03, 1.21836536e-06, 9.03609882e-04],\n",
       "        [4.29907137e-02, 3.34616952e-05, 1.00000000e+00, ...,\n",
       "         1.82761399e-07, 4.48231668e-02, 5.58157305e-02],\n",
       "        ...,\n",
       "        [2.24618998e-06, 9.55656803e-03, 1.82761399e-07, ...,\n",
       "         1.00000000e+00, 9.36488504e-05, 3.17002458e-04],\n",
       "        [4.23423222e-03, 1.21836536e-06, 4.48231668e-02, ...,\n",
       "         9.36488504e-05, 1.00000000e+00, 6.57879625e-02],\n",
       "        [2.01671770e-02, 9.03609882e-04, 5.58157305e-02, ...,\n",
       "         3.17002458e-04, 6.57879625e-02, 1.00000000e+00]])"
      ]
     },
     "execution_count": 10,
     "metadata": {},
     "output_type": "execute_result"
    }
   ],
   "source": [
    "weighted_adjacency"
   ]
  },
  {
   "cell_type": "markdown",
   "metadata": {},
   "source": [
    "The Topology Overlay Matrix (TOM) is computed using the formula defined in Hierarchical organization of modularity in metabolic networks (Ravasz et al., 2002).\n",
    "\n",
    "$$TOM_{ij} = \\frac{l_{ij}+a_{ij}}{min(k_{i},k_{j})+1-a_{ij}}$$\n",
    "\n",
    "$$DistTOM_{ij} = 1 - TOM_{ij}$$\n",
    "\n",
    "Where:  \n",
    "$$l_{ij} = \\sum_{u{\\ne}i,j}a_{iu}a_{uj}$$  \n",
    "$$k_{i} = \\sum_{u{\\ne}i}a_{iu}$$  \n",
    "$$k_{j} = \\sum_{u{\\ne}j}a_{uj}$$"
   ]
  },
  {
   "cell_type": "code",
   "execution_count": 11,
   "metadata": {},
   "outputs": [],
   "source": [
    "def compute_tom(weighted_adjacency_matrix):\n",
    "    # Initialize the TOM to zeros\n",
    "    TOM = np.matrix(np.reshape(np.ones(weighted_adjacency_matrix.size), weighted_adjacency_matrix.shape))\n",
    "    for i in range(weighted_adjacency_matrix.shape[0]):\n",
    "        for j in range(weighted_adjacency_matrix.shape[1]):\n",
    "            if i == j:\n",
    "                TOM[i,j] = 1.0\n",
    "                TOM[j,i] = 1.0\n",
    "            else:\n",
    "                ki = np.sum(weighted_adjacency_matrix[i, np.arange(weighted_adjacency_matrix[i,:].size) != j])\n",
    "                kj = np.sum(weighted_adjacency_matrix[np.arange(weighted_adjacency_matrix[:,j].size) != i, j])\n",
    "                l = np.sum(weighted_adjacency_matrix[i, np.arange(weighted_adjacency_matrix[i,:].size) != j] * weighted_adjacency_matrix[np.arange(weighted_adjacency_matrix[:,j].size) != i, j])\n",
    "                numerator = l + weighted_adjacency_matrix[i, j]\n",
    "                denominator = min(ki, kj) + (1 - weighted_adjacency_matrix[i,j])\n",
    "                val = numerator / denominator\n",
    "                TOM[i,j] = val\n",
    "                TOM[j,i] = val\n",
    "    return TOM\n",
    "\n",
    "def distance_tom(TOM):\n",
    "    return 1 - TOM"
   ]
  },
  {
   "cell_type": "code",
   "execution_count": 12,
   "metadata": {},
   "outputs": [],
   "source": [
    "tom = compute_tom(weighted_adjacency)"
   ]
  },
  {
   "cell_type": "code",
   "execution_count": 13,
   "metadata": {},
   "outputs": [
    {
     "data": {
      "text/plain": [
       "matrix([[1.        , 0.44234341, 0.04054446, ..., 0.06143358, 0.01094773,\n",
       "         0.02099755],\n",
       "        [0.44234341, 1.        , 0.4403549 , ..., 0.00587698, 0.02556272,\n",
       "         0.02814686],\n",
       "        [0.04054446, 0.4403549 , 1.        , ..., 0.00287494, 0.0280784 ,\n",
       "         0.06128351],\n",
       "        ...,\n",
       "        [0.06143358, 0.00587698, 0.00287494, ..., 1.        , 0.44648687,\n",
       "         0.03235723],\n",
       "        [0.01094773, 0.02556272, 0.0280784 , ..., 0.44648687, 1.        ,\n",
       "         0.33288221],\n",
       "        [0.02099755, 0.02814686, 0.06128351, ..., 0.03235723, 0.33288221,\n",
       "         1.        ]])"
      ]
     },
     "execution_count": 13,
     "metadata": {},
     "output_type": "execute_result"
    }
   ],
   "source": [
    "tom"
   ]
  },
  {
   "cell_type": "markdown",
   "metadata": {},
   "source": [
    "#### Visualizing a weighted network\n",
    "Here, we will make use of `networkx` and the `nxviz` packages to construct a visual representation of the network."
   ]
  },
  {
   "cell_type": "code",
   "execution_count": 18,
   "metadata": {},
   "outputs": [],
   "source": [
    "# define a graph G\n",
    "G = nx.Graph()"
   ]
  },
  {
   "cell_type": "code",
   "execution_count": 19,
   "metadata": {},
   "outputs": [],
   "source": [
    "# add in the nodes of the network\n",
    "for node in testdict.keys():\n",
    "    G.add_node(node)\n",
    "# loop through our weighted adjacency matrix and construct weighted edges between nodes\n",
    "nodenames = list(testdict.keys())\n",
    "tau = 0.2\n",
    "for i in range(weighted_adjacency.shape[0]):\n",
    "    jstart = i+1\n",
    "    for j in range(jstart, weighted_adjacency.shape[1]):\n",
    "        if i == j:\n",
    "            pass\n",
    "        else:\n",
    "            if weighted_adjacency[i,j] >= tau:\n",
    "                G.add_edge(nodenames[i], nodenames[j], weight=weighted_adjacency[i,j], module=tom[i,j])\n",
    "            "
   ]
  },
  {
   "cell_type": "code",
   "execution_count": 20,
   "metadata": {},
   "outputs": [
    {
     "data": {
      "image/png": "[encoded data removed]",
      "text/plain": [
       "<Figure size 432x432 with 1 Axes>"
      ]
     },
     "metadata": {
      "needs_background": "light"
     },
     "output_type": "display_data"
    }
   ],
   "source": [
    "matrixplot = nxviz.MatrixPlot(G, edge_width='weight')\n",
    "matrixplot.draw()"
   ]
  },
  {
   "cell_type": "code",
   "execution_count": 21,
   "metadata": {},
   "outputs": [
    {
     "data": {
      "image/png": "[encoded data removed]",
      "text/plain": [
       "<Figure size 432x432 with 2 Axes>"
      ]
     },
     "metadata": {
      "needs_background": "light"
     },
     "output_type": "display_data"
    }
   ],
   "source": [
    "circos_plot = nxviz.CircosPlot(G, edge_width='weight', edge_color='module')\n",
    "circos_plot.draw()"
   ]
  },
  {
   "cell_type": "code",
   "execution_count": null,
   "metadata": {},
   "outputs": [],
   "source": []
  }
 ],
 "metadata": {
  "kernelspec": {
   "display_name": "Python 3",
   "language": "python",
   "name": "python3"
  },
  "language_info": {
   "codemirror_mode": {
    "name": "ipython",
    "version": 3
   },
   "file_extension": ".py",
   "mimetype": "text/x-python",
   "name": "python",
   "nbconvert_exporter": "python",
   "pygments_lexer": "ipython3",
   "version": "3.7.3"
  }
 },
 "nbformat": 4,
 "nbformat_minor": 4
}
