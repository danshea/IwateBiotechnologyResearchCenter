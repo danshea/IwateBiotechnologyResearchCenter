{
 "cells": [
  {
   "cell_type": "markdown",
   "metadata": {},
   "source": [
    "Author: Dan Shea  \n",
    "Date: 2019.11.15  \n",
    "Description: This function quickly scans through a blast text output and looks for alignments with gaps. It then reports those regions in a separate file."
   ]
  },
  {
   "cell_type": "code",
   "execution_count": 1,
   "metadata": {},
   "outputs": [],
   "source": [
    "import gzip\n",
    "import re\n",
    "import collections\n",
    "import sys"
   ]
  },
  {
   "cell_type": "code",
   "execution_count": 10,
   "metadata": {},
   "outputs": [],
   "source": [
    "def parse_blast_text(filename,outfile):\n",
    "    with open(outfile, 'w') as ofh:\n",
    "        with gzip.open(filename, mode='rt') as fh:\n",
    "            key=None\n",
    "            hsp=None\n",
    "            for line in fh:\n",
    "                line = line.strip()\n",
    "                if (match:=re.match(r'^Query= (\\w+)$', line)) is not None:\n",
    "                    key = match.groups()[0]\n",
    "                    continue\n",
    "                if (match:=re.match(r'^(\\w+)\\s+([\\w\\.\\+-]+)\\s+([\\w\\.\\+-]+)$', line)) is not None:\n",
    "                    hsp = match.groups()[0]\n",
    "                    bit = match.groups()[1]\n",
    "                    evl = match.groups()[2]\n",
    "                    continue\n",
    "                if (match:=re.match(r'^>\\s*(\\w+)$', line)) is not None:\n",
    "                    hsp = match.groups()[0]\n",
    "                    continue\n",
    "                if (match:=re.match(r'^(\\w+)\\s+([0-9]+)\\s+([\\w-]+)\\s+([0-9]+)$', line)) is not None:\n",
    "                    qos = match.groups()[0]\n",
    "                    start = match.groups()[1]\n",
    "                    aln = match.groups()[2]\n",
    "                    stop = match.groups()[3]\n",
    "                    if (match:=re.search(r'(-+)', line)) is not None:\n",
    "                        findall = re.findall(r'(-+)', aln)\n",
    "                        indels = [len(g) for g in findall]\n",
    "                        indels_str = '\\t'.join(map(str,indels))\n",
    "                        ofh.write(f'Query={key}\\tType={qos}\\tStart={start}\\tStop={stop}\\t{indels_str}\\n')\n",
    "                        ofh.write(f'{aln}\\n\\n')\n",
    "                    continue\n",
    "    pass"
   ]
  },
  {
   "cell_type": "code",
   "execution_count": 11,
   "metadata": {},
   "outputs": [],
   "source": [
    "a=parse_blast_text('blast.txt.gz', 'results.txt')"
   ]
  },
  {
   "cell_type": "code",
   "execution_count": null,
   "metadata": {},
   "outputs": [],
   "source": []
  }
 ],
 "metadata": {
  "kernelspec": {
   "display_name": "Python 3",
   "language": "python",
   "name": "python3"
  },
  "language_info": {
   "codemirror_mode": {
    "name": "ipython",
    "version": 3
   },
   "file_extension": ".py",
   "mimetype": "text/x-python",
   "name": "python",
   "nbconvert_exporter": "python",
   "pygments_lexer": "ipython3",
   "version": "3.8.0"
  }
 },
 "nbformat": 4,
 "nbformat_minor": 4
}
