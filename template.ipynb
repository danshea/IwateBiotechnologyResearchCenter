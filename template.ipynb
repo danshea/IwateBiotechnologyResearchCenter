{
 "cells": [
  {
   "cell_type": "markdown",
   "metadata": {},
   "source": [
    "**Author:** Dan Shea  \n",
    "**Date:** YYYY.MM.DD  \n",
    "**Description:**  \n",
    "### Put your title here\n",
    "Then put a bunch of text here."
   ]
  },
  {
   "cell_type": "code",
   "execution_count": null,
   "metadata": {},
   "outputs": [],
   "source": []
  }
 ],
 "metadata": {
  "kernelspec": {
   "display_name": "Python 3",
   "language": "python",
   "name": "python3"
  },
  "language_info": {
   "name": ""
  }
 },
 "nbformat": 4,
 "nbformat_minor": 2
}
